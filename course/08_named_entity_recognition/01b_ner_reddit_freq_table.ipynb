{
 "cells": [
  {
   "cell_type": "markdown",
   "metadata": {},
   "source": [
    "# NER on Reddit Data\n",
    "\n",
    "In this example we work through building a NER tool for extracting organization mentions from Reddit data to create a frequency table."
   ]
  },
  {
   "cell_type": "code",
   "execution_count": null,
   "metadata": {},
   "outputs": [
    {
     "name": "stderr",
     "output_type": "stream",
     "text": [
      "2022-11-13 12:22:53.922974: I tensorflow/core/platform/cpu_feature_guard.cc:193] This TensorFlow binary is optimized with oneAPI Deep Neural Network Library (oneDNN) to use the following CPU instructions in performance-critical operations:  AVX2 FMA\n",
      "To enable them in other operations, rebuild TensorFlow with the appropriate compiler flags.\n",
      "2022-11-13 12:22:54.032339: E tensorflow/stream_executor/cuda/cuda_blas.cc:2981] Unable to register cuBLAS factory: Attempting to register factory for plugin cuBLAS when one has already been registered\n",
      "2022-11-13 12:22:54.331198: W tensorflow/stream_executor/platform/default/dso_loader.cc:64] Could not load dynamic library 'libnvinfer.so.7'; dlerror: libnvinfer.so.7: cannot open shared object file: No such file or directory\n",
      "2022-11-13 12:22:54.331266: W tensorflow/stream_executor/platform/default/dso_loader.cc:64] Could not load dynamic library 'libnvinfer_plugin.so.7'; dlerror: libnvinfer_plugin.so.7: cannot open shared object file: No such file or directory\n",
      "2022-11-13 12:22:54.331270: W tensorflow/compiler/tf2tensorrt/utils/py_utils.cc:38] TF-TRT Warning: Cannot dlopen some TensorRT libraries. If you would like to use Nvidia GPU with TensorRT, please make sure the missing libraries mentioned above are installed properly.\n",
      "2022-11-13 12:22:54.860455: I tensorflow/stream_executor/cuda/cuda_gpu_executor.cc:966] could not open file to read NUMA node: /sys/bus/pci/devices/0000:01:00.0/numa_node\n",
      "Your kernel may have been built without NUMA support.\n",
      "2022-11-13 12:22:54.876987: I tensorflow/stream_executor/cuda/cuda_gpu_executor.cc:966] could not open file to read NUMA node: /sys/bus/pci/devices/0000:01:00.0/numa_node\n",
      "Your kernel may have been built without NUMA support.\n",
      "2022-11-13 12:22:54.877489: I tensorflow/stream_executor/cuda/cuda_gpu_executor.cc:966] could not open file to read NUMA node: /sys/bus/pci/devices/0000:01:00.0/numa_node\n",
      "Your kernel may have been built without NUMA support.\n"
     ]
    }
   ],
   "source": [
    "import spacy\n",
    "from spacy import displacy\n",
    "import pandas as pd\n",
    "from collections import Counter"
   ]
  },
  {
   "cell_type": "code",
   "execution_count": 3,
   "metadata": {},
   "outputs": [],
   "source": [
    "nlp = spacy.load('en_core_web_sm')"
   ]
  },
  {
   "cell_type": "markdown",
   "metadata": {},
   "source": [
    "The `get_orgs` function will consume a length of text, and return a list of mentioned organizations:"
   ]
  },
  {
   "cell_type": "code",
   "execution_count": 29,
   "metadata": {},
   "outputs": [
    {
     "data": {
      "text/html": [
       "<div>\n",
       "<style scoped>\n",
       "    .dataframe tbody tr th:only-of-type {\n",
       "        vertical-align: middle;\n",
       "    }\n",
       "\n",
       "    .dataframe tbody tr th {\n",
       "        vertical-align: top;\n",
       "    }\n",
       "\n",
       "    .dataframe thead th {\n",
       "        text-align: right;\n",
       "    }\n",
       "</style>\n",
       "<table border=\"1\" class=\"dataframe\">\n",
       "  <thead>\n",
       "    <tr style=\"text-align: right;\">\n",
       "      <th></th>\n",
       "      <th>name</th>\n",
       "      <th>created_utc</th>\n",
       "      <th>subreddit</th>\n",
       "      <th>title</th>\n",
       "      <th>selftext</th>\n",
       "      <th>upvote_ratio</th>\n",
       "      <th>ups</th>\n",
       "      <th>downs</th>\n",
       "      <th>score</th>\n",
       "    </tr>\n",
       "  </thead>\n",
       "  <tbody>\n",
       "    <tr>\n",
       "      <th>0</th>\n",
       "      <td>t3_yua5fs</td>\n",
       "      <td>1.668365e+09</td>\n",
       "      <td>hawwkey</td>\n",
       "      <td>Sabres welcome fans from Roswell Park Comprehe...</td>\n",
       "      <td>NaN</td>\n",
       "      <td>1.00</td>\n",
       "      <td>17.0</td>\n",
       "      <td>0.0</td>\n",
       "      <td>17.0</td>\n",
       "    </tr>\n",
       "    <tr>\n",
       "      <th>1</th>\n",
       "      <td>t3_ys0byl</td>\n",
       "      <td>1.668138e+09</td>\n",
       "      <td>hawwkey</td>\n",
       "      <td>Julien Gauthiers dad does a little dance after...</td>\n",
       "      <td>NaN</td>\n",
       "      <td>0.81</td>\n",
       "      <td>3.0</td>\n",
       "      <td>0.0</td>\n",
       "      <td>3.0</td>\n",
       "    </tr>\n",
       "    <tr>\n",
       "      <th>2</th>\n",
       "      <td>t3_yn8i0r</td>\n",
       "      <td>1.667687e+09</td>\n",
       "      <td>hawwkey</td>\n",
       "      <td>Tarasenko absolutely leveled by 9 year old :)</td>\n",
       "      <td>NaN</td>\n",
       "      <td>0.88</td>\n",
       "      <td>98.0</td>\n",
       "      <td>0.0</td>\n",
       "      <td>98.0</td>\n",
       "    </tr>\n",
       "    <tr>\n",
       "      <th>3</th>\n",
       "      <td>t3_ymighg</td>\n",
       "      <td>1.667617e+09</td>\n",
       "      <td>hawwkey</td>\n",
       "      <td>Local Finland Kids Participate in Avalanche-Bl...</td>\n",
       "      <td>NaN</td>\n",
       "      <td>1.00</td>\n",
       "      <td>10.0</td>\n",
       "      <td>0.0</td>\n",
       "      <td>10.0</td>\n",
       "    </tr>\n",
       "    <tr>\n",
       "      <th>4</th>\n",
       "      <td>t3_ymhthh</td>\n",
       "      <td>1.667616e+09</td>\n",
       "      <td>hawwkey</td>\n",
       "      <td>some of the hurricanes dancing along with the ...</td>\n",
       "      <td>NaN</td>\n",
       "      <td>0.98</td>\n",
       "      <td>257.0</td>\n",
       "      <td>0.0</td>\n",
       "      <td>257.0</td>\n",
       "    </tr>\n",
       "  </tbody>\n",
       "</table>\n",
       "</div>"
      ],
      "text/plain": [
       "        name   created_utc subreddit  \\\n",
       "0  t3_yua5fs  1.668365e+09   hawwkey   \n",
       "1  t3_ys0byl  1.668138e+09   hawwkey   \n",
       "2  t3_yn8i0r  1.667687e+09   hawwkey   \n",
       "3  t3_ymighg  1.667617e+09   hawwkey   \n",
       "4  t3_ymhthh  1.667616e+09   hawwkey   \n",
       "\n",
       "                                               title selftext  upvote_ratio  \\\n",
       "0  Sabres welcome fans from Roswell Park Comprehe...      NaN          1.00   \n",
       "1  Julien Gauthiers dad does a little dance after...      NaN          0.81   \n",
       "2      Tarasenko absolutely leveled by 9 year old :)      NaN          0.88   \n",
       "3  Local Finland Kids Participate in Avalanche-Bl...      NaN          1.00   \n",
       "4  some of the hurricanes dancing along with the ...      NaN          0.98   \n",
       "\n",
       "     ups  downs  score  \n",
       "0   17.0    0.0   17.0  \n",
       "1    3.0    0.0    3.0  \n",
       "2   98.0    0.0   98.0  \n",
       "3   10.0    0.0   10.0  \n",
       "4  257.0    0.0  257.0  "
      ]
     },
     "execution_count": 29,
     "metadata": {},
     "output_type": "execute_result"
    }
   ],
   "source": [
    "df = pd.read_csv('./data/reddit_hawwkey.csv', sep='|')\n",
    "df.head()"
   ]
  },
  {
   "cell_type": "code",
   "execution_count": null,
   "metadata": {},
   "outputs": [],
   "source": []
  },
  {
   "cell_type": "code",
   "execution_count": 30,
   "metadata": {},
   "outputs": [],
   "source": [
    "def get_orgs(text):\n",
    "    # process the text with our SpaCy model to get named entities\n",
    "    doc = nlp(text)\n",
    "    # initialize list to store identified organizations\n",
    "    org_list = []\n",
    "    for entity in doc.ents:\n",
    "        # here we modify the original code to check that entity text is not equal to one of our 'blacklisted' organizations\n",
    "        # (we also add .lower() to lowercase the text, this allows us to match both 'nyse' and 'NYSE' with just 'nyse')\n",
    "        if entity.label_ == 'ORG':\n",
    "            org_list.append(entity.text)\n",
    "    # if organization is identified more than once it will appear multiple times in list\n",
    "    # we use set() to remove duplicates then convert back to list\n",
    "    org_list = list(set(org_list))\n",
    "    return org_list"
   ]
  },
  {
   "cell_type": "code",
   "execution_count": 31,
   "metadata": {},
   "outputs": [],
   "source": [
    "df['organizations'] = df['title'].apply(get_orgs)"
   ]
  },
  {
   "cell_type": "code",
   "execution_count": 32,
   "metadata": {},
   "outputs": [
    {
     "data": {
      "text/html": [
       "<div>\n",
       "<style scoped>\n",
       "    .dataframe tbody tr th:only-of-type {\n",
       "        vertical-align: middle;\n",
       "    }\n",
       "\n",
       "    .dataframe tbody tr th {\n",
       "        vertical-align: top;\n",
       "    }\n",
       "\n",
       "    .dataframe thead th {\n",
       "        text-align: right;\n",
       "    }\n",
       "</style>\n",
       "<table border=\"1\" class=\"dataframe\">\n",
       "  <thead>\n",
       "    <tr style=\"text-align: right;\">\n",
       "      <th></th>\n",
       "      <th>name</th>\n",
       "      <th>created_utc</th>\n",
       "      <th>subreddit</th>\n",
       "      <th>title</th>\n",
       "      <th>selftext</th>\n",
       "      <th>upvote_ratio</th>\n",
       "      <th>ups</th>\n",
       "      <th>downs</th>\n",
       "      <th>score</th>\n",
       "      <th>organizations</th>\n",
       "    </tr>\n",
       "  </thead>\n",
       "  <tbody>\n",
       "    <tr>\n",
       "      <th>0</th>\n",
       "      <td>t3_yua5fs</td>\n",
       "      <td>1.668365e+09</td>\n",
       "      <td>hawwkey</td>\n",
       "      <td>Sabres welcome fans from Roswell Park Comprehe...</td>\n",
       "      <td>NaN</td>\n",
       "      <td>1.00</td>\n",
       "      <td>17.0</td>\n",
       "      <td>0.0</td>\n",
       "      <td>17.0</td>\n",
       "      <td>[Roswell Park Comprehensive Cancer Center on H...</td>\n",
       "    </tr>\n",
       "    <tr>\n",
       "      <th>1</th>\n",
       "      <td>t3_ys0byl</td>\n",
       "      <td>1.668138e+09</td>\n",
       "      <td>hawwkey</td>\n",
       "      <td>Julien Gauthiers dad does a little dance after...</td>\n",
       "      <td>NaN</td>\n",
       "      <td>0.81</td>\n",
       "      <td>3.0</td>\n",
       "      <td>0.0</td>\n",
       "      <td>3.0</td>\n",
       "      <td>[Rangers]</td>\n",
       "    </tr>\n",
       "    <tr>\n",
       "      <th>2</th>\n",
       "      <td>t3_yn8i0r</td>\n",
       "      <td>1.667687e+09</td>\n",
       "      <td>hawwkey</td>\n",
       "      <td>Tarasenko absolutely leveled by 9 year old :)</td>\n",
       "      <td>NaN</td>\n",
       "      <td>0.88</td>\n",
       "      <td>98.0</td>\n",
       "      <td>0.0</td>\n",
       "      <td>98.0</td>\n",
       "      <td>[]</td>\n",
       "    </tr>\n",
       "    <tr>\n",
       "      <th>3</th>\n",
       "      <td>t3_ymighg</td>\n",
       "      <td>1.667617e+09</td>\n",
       "      <td>hawwkey</td>\n",
       "      <td>Local Finland Kids Participate in Avalanche-Bl...</td>\n",
       "      <td>NaN</td>\n",
       "      <td>1.00</td>\n",
       "      <td>10.0</td>\n",
       "      <td>0.0</td>\n",
       "      <td>10.0</td>\n",
       "      <td>[Local Finland Kids Participate, Avalanche-Blu...</td>\n",
       "    </tr>\n",
       "    <tr>\n",
       "      <th>4</th>\n",
       "      <td>t3_ymhthh</td>\n",
       "      <td>1.667616e+09</td>\n",
       "      <td>hawwkey</td>\n",
       "      <td>some of the hurricanes dancing along with the ...</td>\n",
       "      <td>NaN</td>\n",
       "      <td>0.98</td>\n",
       "      <td>257.0</td>\n",
       "      <td>0.0</td>\n",
       "      <td>257.0</td>\n",
       "      <td>[]</td>\n",
       "    </tr>\n",
       "  </tbody>\n",
       "</table>\n",
       "</div>"
      ],
      "text/plain": [
       "        name   created_utc subreddit  \\\n",
       "0  t3_yua5fs  1.668365e+09   hawwkey   \n",
       "1  t3_ys0byl  1.668138e+09   hawwkey   \n",
       "2  t3_yn8i0r  1.667687e+09   hawwkey   \n",
       "3  t3_ymighg  1.667617e+09   hawwkey   \n",
       "4  t3_ymhthh  1.667616e+09   hawwkey   \n",
       "\n",
       "                                               title selftext  upvote_ratio  \\\n",
       "0  Sabres welcome fans from Roswell Park Comprehe...      NaN          1.00   \n",
       "1  Julien Gauthiers dad does a little dance after...      NaN          0.81   \n",
       "2      Tarasenko absolutely leveled by 9 year old :)      NaN          0.88   \n",
       "3  Local Finland Kids Participate in Avalanche-Bl...      NaN          1.00   \n",
       "4  some of the hurricanes dancing along with the ...      NaN          0.98   \n",
       "\n",
       "     ups  downs  score                                      organizations  \n",
       "0   17.0    0.0   17.0  [Roswell Park Comprehensive Cancer Center on H...  \n",
       "1    3.0    0.0    3.0                                          [Rangers]  \n",
       "2   98.0    0.0   98.0                                                 []  \n",
       "3   10.0    0.0   10.0  [Local Finland Kids Participate, Avalanche-Blu...  \n",
       "4  257.0    0.0  257.0                                                 []  "
      ]
     },
     "execution_count": 32,
     "metadata": {},
     "output_type": "execute_result"
    }
   ],
   "source": [
    "df.head()"
   ]
  },
  {
   "cell_type": "code",
   "execution_count": 33,
   "metadata": {},
   "outputs": [],
   "source": [
    "from collections import Counter"
   ]
  },
  {
   "cell_type": "code",
   "execution_count": 34,
   "metadata": {},
   "outputs": [],
   "source": [
    "orgs = df['organizations'].to_list()"
   ]
  },
  {
   "cell_type": "code",
   "execution_count": 35,
   "metadata": {},
   "outputs": [],
   "source": [
    "# Convert list of lists to a single list\n",
    "orgs = [org for sublist in orgs for org in sublist]"
   ]
  },
  {
   "cell_type": "code",
   "execution_count": 37,
   "metadata": {
    "tags": []
   },
   "outputs": [],
   "source": [
    "# Commented to reduce file size of notebook\n",
    "# orgs"
   ]
  },
  {
   "cell_type": "code",
   "execution_count": 38,
   "metadata": {},
   "outputs": [],
   "source": [
    "org_freq = Counter(orgs)"
   ]
  },
  {
   "cell_type": "code",
   "execution_count": 39,
   "metadata": {},
   "outputs": [
    {
     "data": {
      "text/plain": [
       "[('NHL', 37),\n",
       " ('Fleury', 8),\n",
       " ('Oilers', 5),\n",
       " ('Rangers', 4),\n",
       " ('Ovi', 4),\n",
       " ('Backstrom', 4),\n",
       " ('Instagram', 4),\n",
       " ('Preds', 4),\n",
       " ('TSN', 3),\n",
       " ('Canadiens', 3)]"
      ]
     },
     "execution_count": 39,
     "metadata": {},
     "output_type": "execute_result"
    }
   ],
   "source": [
    "org_freq.most_common(10)"
   ]
  },
  {
   "cell_type": "code",
   "execution_count": 44,
   "metadata": {},
   "outputs": [],
   "source": [
    "BLACKLIST = ['nhl', 'instagram', 'gm', 'tsn']\n",
    "\n",
    "def get_orgs_blacklist(text):\n",
    "    # process the text with our SpaCy model to get named entities\n",
    "    doc = nlp(text)\n",
    "    # initialize list to store identified organizations\n",
    "    org_list = []\n",
    "    for entity in doc.ents:\n",
    "        # here we modify the original code to check that entity text is not equal to one of our 'blacklisted' organizations\n",
    "        # (we also add .lower() to lowercase the text, this allows us to match both 'nyse' and 'NYSE' with just 'nyse')\n",
    "        if entity.label_ == 'ORG' and entity.text.lower() not in BLACKLIST:\n",
    "            org_list.append(entity.text)\n",
    "    # if organization is identified more than once it will appear multiple times in list\n",
    "    # we use set() to remove duplicates then convert back to list\n",
    "    org_list = list(set(org_list))\n",
    "    return org_list"
   ]
  },
  {
   "cell_type": "code",
   "execution_count": 45,
   "metadata": {},
   "outputs": [],
   "source": [
    "df['organizations'] = df['title'].apply(get_orgs_blacklist)"
   ]
  },
  {
   "cell_type": "code",
   "execution_count": 46,
   "metadata": {},
   "outputs": [
    {
     "data": {
      "text/plain": [
       "[('Fleury', 8),\n",
       " ('Oilers', 5),\n",
       " ('Rangers', 4),\n",
       " ('Ovi', 4),\n",
       " ('Backstrom', 4),\n",
       " ('Preds', 4),\n",
       " ('Canadiens', 3),\n",
       " ('Flames', 3),\n",
       " ('St. Louis Blues', 3),\n",
       " ('Laila', 3)]"
      ]
     },
     "execution_count": 46,
     "metadata": {},
     "output_type": "execute_result"
    }
   ],
   "source": [
    "orgs = df['organizations'].to_list()\n",
    "orgs = [org for sublist in orgs for org in sublist]\n",
    "org_freq = Counter(orgs)\n",
    "org_freq.most_common(10)"
   ]
  },
  {
   "cell_type": "code",
   "execution_count": 47,
   "metadata": {},
   "outputs": [
    {
     "data": {
      "text/plain": [
       "0    [Roswell Park Comprehensive Cancer Center on H...\n",
       "1                                            [Rangers]\n",
       "2                                                   []\n",
       "3    [Local Finland Kids Participate, Avalanche-Blu...\n",
       "4                                                   []\n",
       "Name: organizations, dtype: object"
      ]
     },
     "execution_count": 47,
     "metadata": {},
     "output_type": "execute_result"
    }
   ],
   "source": [
    "df['organizations'].head()"
   ]
  },
  {
   "cell_type": "code",
   "execution_count": 48,
   "metadata": {},
   "outputs": [],
   "source": [
    "df.to_csv('./data/reddit_hawwkey_ner.csv', sep='|', index=False)"
   ]
  },
  {
   "cell_type": "code",
   "execution_count": null,
   "metadata": {},
   "outputs": [],
   "source": []
  },
  {
   "cell_type": "code",
   "execution_count": null,
   "metadata": {},
   "outputs": [],
   "source": []
  },
  {
   "cell_type": "markdown",
   "metadata": {},
   "source": [
    "## Applying NER\n",
    "\n",
    "All we need to do now is load in the */r/investing* data and apply the `get_orgs` function to our text column to create a new `organizations` column.\n",
    "\n",
    "1. Load the data and view the top five rows with `df.head()`:"
   ]
  },
  {
   "cell_type": "code",
   "execution_count": 4,
   "metadata": {},
   "outputs": [
    {
     "data": {
      "text/html": [
       "<div>\n",
       "<style scoped>\n",
       "    .dataframe tbody tr th:only-of-type {\n",
       "        vertical-align: middle;\n",
       "    }\n",
       "\n",
       "    .dataframe tbody tr th {\n",
       "        vertical-align: top;\n",
       "    }\n",
       "\n",
       "    .dataframe thead th {\n",
       "        text-align: right;\n",
       "    }\n",
       "</style>\n",
       "<table border=\"1\" class=\"dataframe\">\n",
       "  <thead>\n",
       "    <tr style=\"text-align: right;\">\n",
       "      <th></th>\n",
       "      <th>created_utc</th>\n",
       "      <th>downs</th>\n",
       "      <th>id</th>\n",
       "      <th>score</th>\n",
       "      <th>selftext</th>\n",
       "      <th>subreddit</th>\n",
       "      <th>title</th>\n",
       "      <th>ups</th>\n",
       "      <th>upvote_ratio</th>\n",
       "    </tr>\n",
       "  </thead>\n",
       "  <tbody>\n",
       "    <tr>\n",
       "      <th>0</th>\n",
       "      <td>1.614290e+09</td>\n",
       "      <td>0.0</td>\n",
       "      <td>t3_lshtjn</td>\n",
       "      <td>10.0</td>\n",
       "      <td>Bloomberg article: [https://www.bloomberg.com/...</td>\n",
       "      <td>investing</td>\n",
       "      <td>Fed Views Rising Yields as Bullish Sign Reflec...</td>\n",
       "      <td>10.0</td>\n",
       "      <td>0.86</td>\n",
       "    </tr>\n",
       "    <tr>\n",
       "      <th>1</th>\n",
       "      <td>1.614286e+09</td>\n",
       "      <td>0.0</td>\n",
       "      <td>t3_lsgahw</td>\n",
       "      <td>56.0</td>\n",
       "      <td>Given the recent downturn in stocks especially...</td>\n",
       "      <td>investing</td>\n",
       "      <td>ARK ETFs implosion risk ------------------------</td>\n",
       "      <td>56.0</td>\n",
       "      <td>0.83</td>\n",
       "    </tr>\n",
       "    <tr>\n",
       "      <th>2</th>\n",
       "      <td>1.614283e+09</td>\n",
       "      <td>0.0</td>\n",
       "      <td>t3_lsf8td</td>\n",
       "      <td>1.0</td>\n",
       "      <td>[https://twitter.com/desogames/status/13649710...</td>\n",
       "      <td>investing</td>\n",
       "      <td>The Counter-Party Risk Bubble</td>\n",
       "      <td>1.0</td>\n",
       "      <td>0.53</td>\n",
       "    </tr>\n",
       "    <tr>\n",
       "      <th>3</th>\n",
       "      <td>1.614282e+09</td>\n",
       "      <td>0.0</td>\n",
       "      <td>t3_lsf3nh</td>\n",
       "      <td>6.0</td>\n",
       "      <td>When you think of futures, what comes to your ...</td>\n",
       "      <td>investing</td>\n",
       "      <td>Futures were made for days like these</td>\n",
       "      <td>6.0</td>\n",
       "      <td>0.62</td>\n",
       "    </tr>\n",
       "    <tr>\n",
       "      <th>4</th>\n",
       "      <td>1.614278e+09</td>\n",
       "      <td>0.0</td>\n",
       "      <td>t3_lsdcib</td>\n",
       "      <td>3.0</td>\n",
       "      <td>I've been on this sub for quite some time and ...</td>\n",
       "      <td>investing</td>\n",
       "      <td>Let's talk about liquidity premiums</td>\n",
       "      <td>3.0</td>\n",
       "      <td>0.67</td>\n",
       "    </tr>\n",
       "  </tbody>\n",
       "</table>\n",
       "</div>"
      ],
      "text/plain": [
       "    created_utc  downs         id  score  \\\n",
       "0  1.614290e+09    0.0  t3_lshtjn   10.0   \n",
       "1  1.614286e+09    0.0  t3_lsgahw   56.0   \n",
       "2  1.614283e+09    0.0  t3_lsf8td    1.0   \n",
       "3  1.614282e+09    0.0  t3_lsf3nh    6.0   \n",
       "4  1.614278e+09    0.0  t3_lsdcib    3.0   \n",
       "\n",
       "                                            selftext  subreddit  \\\n",
       "0  Bloomberg article: [https://www.bloomberg.com/...  investing   \n",
       "1  Given the recent downturn in stocks especially...  investing   \n",
       "2  [https://twitter.com/desogames/status/13649710...  investing   \n",
       "3  When you think of futures, what comes to your ...  investing   \n",
       "4  I've been on this sub for quite some time and ...  investing   \n",
       "\n",
       "                                               title   ups  upvote_ratio  \n",
       "0  Fed Views Rising Yields as Bullish Sign Reflec...  10.0          0.86  \n",
       "1   ARK ETFs implosion risk ------------------------  56.0          0.83  \n",
       "2                      The Counter-Party Risk Bubble   1.0          0.53  \n",
       "3              Futures were made for days like these   6.0          0.62  \n",
       "4                Let's talk about liquidity premiums   3.0          0.67  "
      ]
     },
     "execution_count": 4,
     "metadata": {},
     "output_type": "execute_result"
    }
   ],
   "source": [
    "df = pd.read_csv('./data/reddit_investing.csv', sep='|')\n",
    "df.head()"
   ]
  },
  {
   "cell_type": "markdown",
   "metadata": {},
   "source": [
    "2. Extract mentioned organizations from `selftext` and add to a new column called `organizations`:"
   ]
  },
  {
   "cell_type": "code",
   "execution_count": 5,
   "metadata": {},
   "outputs": [
    {
     "data": {
      "text/html": [
       "<div>\n",
       "<style scoped>\n",
       "    .dataframe tbody tr th:only-of-type {\n",
       "        vertical-align: middle;\n",
       "    }\n",
       "\n",
       "    .dataframe tbody tr th {\n",
       "        vertical-align: top;\n",
       "    }\n",
       "\n",
       "    .dataframe thead th {\n",
       "        text-align: right;\n",
       "    }\n",
       "</style>\n",
       "<table border=\"1\" class=\"dataframe\">\n",
       "  <thead>\n",
       "    <tr style=\"text-align: right;\">\n",
       "      <th></th>\n",
       "      <th>created_utc</th>\n",
       "      <th>downs</th>\n",
       "      <th>id</th>\n",
       "      <th>score</th>\n",
       "      <th>selftext</th>\n",
       "      <th>subreddit</th>\n",
       "      <th>title</th>\n",
       "      <th>ups</th>\n",
       "      <th>upvote_ratio</th>\n",
       "      <th>organizations</th>\n",
       "    </tr>\n",
       "  </thead>\n",
       "  <tbody>\n",
       "    <tr>\n",
       "      <th>0</th>\n",
       "      <td>1.614290e+09</td>\n",
       "      <td>0.0</td>\n",
       "      <td>t3_lshtjn</td>\n",
       "      <td>10.0</td>\n",
       "      <td>Bloomberg article: [https://www.bloomberg.com/...</td>\n",
       "      <td>investing</td>\n",
       "      <td>Fed Views Rising Yields as Bullish Sign Reflec...</td>\n",
       "      <td>10.0</td>\n",
       "      <td>0.86</td>\n",
       "      <td>[Rebound  \\n&amp;gt, Raphael Bostic, St. Louis Fed...</td>\n",
       "    </tr>\n",
       "    <tr>\n",
       "      <th>1</th>\n",
       "      <td>1.614286e+09</td>\n",
       "      <td>0.0</td>\n",
       "      <td>t3_lsgahw</td>\n",
       "      <td>56.0</td>\n",
       "      <td>Given the recent downturn in stocks especially...</td>\n",
       "      <td>investing</td>\n",
       "      <td>ARK ETFs implosion risk ------------------------</td>\n",
       "      <td>56.0</td>\n",
       "      <td>0.83</td>\n",
       "      <td>[ARK]</td>\n",
       "    </tr>\n",
       "    <tr>\n",
       "      <th>2</th>\n",
       "      <td>1.614283e+09</td>\n",
       "      <td>0.0</td>\n",
       "      <td>t3_lsf8td</td>\n",
       "      <td>1.0</td>\n",
       "      <td>[https://twitter.com/desogames/status/13649710...</td>\n",
       "      <td>investing</td>\n",
       "      <td>The Counter-Party Risk Bubble</td>\n",
       "      <td>1.0</td>\n",
       "      <td>0.53</td>\n",
       "      <td>[Citadel, OWN, ITM]</td>\n",
       "    </tr>\n",
       "    <tr>\n",
       "      <th>3</th>\n",
       "      <td>1.614282e+09</td>\n",
       "      <td>0.0</td>\n",
       "      <td>t3_lsf3nh</td>\n",
       "      <td>6.0</td>\n",
       "      <td>When you think of futures, what comes to your ...</td>\n",
       "      <td>investing</td>\n",
       "      <td>Futures were made for days like these</td>\n",
       "      <td>6.0</td>\n",
       "      <td>0.62</td>\n",
       "      <td>[NQ]</td>\n",
       "    </tr>\n",
       "    <tr>\n",
       "      <th>4</th>\n",
       "      <td>1.614278e+09</td>\n",
       "      <td>0.0</td>\n",
       "      <td>t3_lsdcib</td>\n",
       "      <td>3.0</td>\n",
       "      <td>I've been on this sub for quite some time and ...</td>\n",
       "      <td>investing</td>\n",
       "      <td>Let's talk about liquidity premiums</td>\n",
       "      <td>3.0</td>\n",
       "      <td>0.67</td>\n",
       "      <td>[]</td>\n",
       "    </tr>\n",
       "  </tbody>\n",
       "</table>\n",
       "</div>"
      ],
      "text/plain": [
       "    created_utc  downs         id  score  \\\n",
       "0  1.614290e+09    0.0  t3_lshtjn   10.0   \n",
       "1  1.614286e+09    0.0  t3_lsgahw   56.0   \n",
       "2  1.614283e+09    0.0  t3_lsf8td    1.0   \n",
       "3  1.614282e+09    0.0  t3_lsf3nh    6.0   \n",
       "4  1.614278e+09    0.0  t3_lsdcib    3.0   \n",
       "\n",
       "                                            selftext  subreddit  \\\n",
       "0  Bloomberg article: [https://www.bloomberg.com/...  investing   \n",
       "1  Given the recent downturn in stocks especially...  investing   \n",
       "2  [https://twitter.com/desogames/status/13649710...  investing   \n",
       "3  When you think of futures, what comes to your ...  investing   \n",
       "4  I've been on this sub for quite some time and ...  investing   \n",
       "\n",
       "                                               title   ups  upvote_ratio  \\\n",
       "0  Fed Views Rising Yields as Bullish Sign Reflec...  10.0          0.86   \n",
       "1   ARK ETFs implosion risk ------------------------  56.0          0.83   \n",
       "2                      The Counter-Party Risk Bubble   1.0          0.53   \n",
       "3              Futures were made for days like these   6.0          0.62   \n",
       "4                Let's talk about liquidity premiums   3.0          0.67   \n",
       "\n",
       "                                       organizations  \n",
       "0  [Rebound  \\n&gt, Raphael Bostic, St. Louis Fed...  \n",
       "1                                              [ARK]  \n",
       "2                                [Citadel, OWN, ITM]  \n",
       "3                                               [NQ]  \n",
       "4                                                 []  "
      ]
     },
     "execution_count": 5,
     "metadata": {},
     "output_type": "execute_result"
    }
   ],
   "source": [
    "df['organizations'] = df['selftext'].apply(get_orgs)\n",
    "df.head()"
   ]
  },
  {
   "cell_type": "markdown",
   "metadata": {},
   "source": [
    "*(This step can take a long time to run. It can be useful to break larger datasets into more manageable chunks if required)*\n",
    "\n",
    "Now we have a list of all mentioned organizations contained within the `organizations` column. We will now take the full column, merge each list, and use `Counter` to create a frequency table of organization mentions."
   ]
  },
  {
   "cell_type": "code",
   "execution_count": 6,
   "metadata": {},
   "outputs": [
    {
     "data": {
      "text/plain": [
       "['Rebound  \\n&gt',\n",
       " 'Raphael Bostic',\n",
       " 'St. Louis Fed',\n",
       " 'Bullard',\n",
       " 'the Atlanta Fed',\n",
       " 'Bostic',\n",
       " 'ARK',\n",
       " 'Citadel',\n",
       " 'OWN',\n",
       " 'ITM']"
      ]
     },
     "execution_count": 6,
     "metadata": {},
     "output_type": "execute_result"
    }
   ],
   "source": [
    "# merge organizations column into one big list\n",
    "orgs = df['organizations'].to_list()\n",
    "orgs = [org for sublist in orgs for org in sublist]\n",
    "orgs[:10]"
   ]
  },
  {
   "cell_type": "markdown",
   "metadata": {},
   "source": [
    "## Create Frequency Table"
   ]
  },
  {
   "cell_type": "code",
   "execution_count": 7,
   "metadata": {},
   "outputs": [],
   "source": [
    "from collections import Counter"
   ]
  },
  {
   "cell_type": "code",
   "execution_count": 8,
   "metadata": {},
   "outputs": [],
   "source": [
    "# create dictionary of organization mention frequency\n",
    "org_freq = Counter(orgs)"
   ]
  },
  {
   "cell_type": "markdown",
   "metadata": {},
   "source": [
    "We now have a *Counter* dictionary containing all of our organization labels as *keys*, and their mention frequency as *values*. The `most_common(n)` method allows us to view the **n** most frequently mentioned organizations:"
   ]
  },
  {
   "cell_type": "code",
   "execution_count": 9,
   "metadata": {},
   "outputs": [
    {
     "data": {
      "text/plain": [
       "[('Amazon', 26),\n",
       " ('Apple', 25),\n",
       " ('TSLA', 18),\n",
       " ('PE', 16),\n",
       " ('EPS', 16),\n",
       " ('ARK', 15),\n",
       " ('EBITDA', 15),\n",
       " ('GM', 14),\n",
       " ('Google', 14),\n",
       " ('Nasdaq', 12)]"
      ]
     },
     "execution_count": 9,
     "metadata": {},
     "output_type": "execute_result"
    }
   ],
   "source": [
    "org_freq.most_common(10)"
   ]
  },
  {
   "cell_type": "code",
   "execution_count": null,
   "metadata": {},
   "outputs": [],
   "source": []
  }
 ],
 "metadata": {
  "kernelspec": {
   "display_name": "Python 3 (ipykernel)",
   "language": "python",
   "name": "python3"
  },
  "language_info": {
   "codemirror_mode": {
    "name": "ipython",
    "version": 3
   },
   "file_extension": ".py",
   "mimetype": "text/x-python",
   "name": "python",
   "nbconvert_exporter": "python",
   "pygments_lexer": "ipython3",
   "version": "3.9.7"
  }
 },
 "nbformat": 4,
 "nbformat_minor": 4
}
