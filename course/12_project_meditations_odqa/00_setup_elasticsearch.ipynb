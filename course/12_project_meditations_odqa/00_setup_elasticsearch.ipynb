{
 "cells": [
  {
   "cell_type": "markdown",
   "metadata": {},
   "source": [
    "# Elasticsearch Setup\n",
    "\n",
    "For this project, we will be building an open-domain question answering system. There are three major components to such a system:\n",
    "\n",
    "* Database\n",
    "\n",
    "* Retriever\n",
    "\n",
    "* Reader\n",
    "\n",
    "In this notebook we will setup the first part, the *database* - where we will be using Elasticsearch.\n",
    "\n",
    "Before creating our Elasticsearch index, we need to load our data. We will be using *Meditations* by Marcus Aurelius - a clean version of this can be found at:\n",
    "\n",
    "https://raw.githubusercontent.com/jamescalam/transformers/main/data/text/meditations/clean.txt\n",
    "\n",
    "We will download this through requests."
   ]
  },
  {
   "cell_type": "code",
   "execution_count": 1,
   "metadata": {},
   "outputs": [],
   "source": [
    "import requests"
   ]
  },
  {
   "cell_type": "code",
   "execution_count": 2,
   "metadata": {},
   "outputs": [],
   "source": [
    "data = requests.get('https://raw.githubusercontent.com/jamescalam/transformers/main/data/text/meditations/clean.txt')\n",
    "text = data.text.split('\\n')"
   ]
  },
  {
   "cell_type": "code",
   "execution_count": 3,
   "metadata": {},
   "outputs": [
    {
     "data": {
      "text/plain": [
       "['From my grandfather Verus I learned good morals and the government of my temper.',\n",
       " 'From the reputation and remembrance of my father, modesty and a manly character.',\n",
       " 'From my mother, piety and beneficence, and abstinence, not only from evil deeds, but even from evil thoughts; and further, simplicity in my way of living, far removed from the habits of the rich.']"
      ]
     },
     "execution_count": 3,
     "metadata": {},
     "output_type": "execute_result"
    }
   ],
   "source": [
    "text[:3]"
   ]
  },
  {
   "cell_type": "markdown",
   "metadata": {},
   "source": [
    "Now we can move onto setting up an index in elasticsearch. Let's confirm Elasticsearch is up and running."
   ]
  },
  {
   "cell_type": "code",
   "execution_count": 4,
   "metadata": {},
   "outputs": [
    {
     "name": "stdout",
     "output_type": "stream",
     "text": [
      "{'cluster_name': 'elasticsearch', 'status': 'yellow', 'timed_out': False, 'number_of_nodes': 1, 'number_of_data_nodes': 1, 'active_primary_shards': 5, 'active_shards': 5, 'relocating_shards': 0, 'initializing_shards': 0, 'unassigned_shards': 3, 'delayed_unassigned_shards': 0, 'number_of_pending_tasks': 0, 'number_of_in_flight_fetch': 0, 'task_max_waiting_in_queue_millis': 0, 'active_shards_percent_as_number': 62.5}\n"
     ]
    },
    {
     "name": "stderr",
     "output_type": "stream",
     "text": [
      "/home/tola/anaconda3/lib/python3.9/site-packages/elasticsearch/connection/http_requests.py:139: UserWarning: Connecting to https://localhost:9200 using SSL with verify_certs=False is insecure.\n",
      "  warnings.warn(\n",
      "/home/tola/anaconda3/lib/python3.9/site-packages/urllib3/connectionpool.py:1013: InsecureRequestWarning: Unverified HTTPS request is being made to host 'localhost'. Adding certificate verification is strongly advised. See: https://urllib3.readthedocs.io/en/1.26.x/advanced-usage.html#ssl-warnings\n",
      "  warnings.warn(\n"
     ]
    }
   ],
   "source": [
    "# requests.get('http://localhost:9200/_cluster/health').json()\n",
    "\n",
    "def reading(file_name = '../11_reader-retriever_qa_with_haystack/credentials.txt'):\n",
    "    s = open(file_name, 'r').read()\n",
    "    dict = eval(s)\n",
    "    return(dict)\n",
    "\n",
    "credential_dict = reading()\n",
    "\n",
    "from elasticsearch import Elasticsearch, RequestsHttpConnection\n",
    "es = Elasticsearch(host='localhost', connection_class=RequestsHttpConnection, http_auth=(credential_dict['username'], credential_dict['pwd']),use_ssl=True, verify_certs=False)\n",
    "print(es.cluster.health())"
   ]
  },
  {
   "cell_type": "markdown",
   "metadata": {},
   "source": [
    "And check currently active indices."
   ]
  },
  {
   "cell_type": "code",
   "execution_count": 5,
   "metadata": {},
   "outputs": [
    {
     "name": "stderr",
     "output_type": "stream",
     "text": [
      "/home/tola/anaconda3/lib/python3.9/site-packages/urllib3/connectionpool.py:1013: InsecureRequestWarning: Unverified HTTPS request is being made to host 'localhost'. Adding certificate verification is strongly advised. See: https://urllib3.readthedocs.io/en/1.26.x/advanced-usage.html#ssl-warnings\n",
      "  warnings.warn(\n"
     ]
    },
    {
     "data": {
      "text/plain": [
       "{'aurelius': {'aliases': {},\n",
       "  'mappings': {'dynamic_templates': [{'strings': {'path_match': '*',\n",
       "      'match_mapping_type': 'string',\n",
       "      'mapping': {'type': 'keyword'}}}],\n",
       "   'properties': {'content': {'type': 'text'},\n",
       "    'content_type': {'type': 'keyword'},\n",
       "    'embedding': {'type': 'dense_vector', 'dims': 768},\n",
       "    'name': {'type': 'keyword'},\n",
       "    'source': {'type': 'keyword'}}},\n",
       "  'settings': {'index': {'routing': {'allocation': {'include': {'_tier_preference': 'data_content'}}},\n",
       "    'number_of_shards': '1',\n",
       "    'provided_name': 'aurelius',\n",
       "    'creation_date': '1668568092396',\n",
       "    'analysis': {'analyzer': {'default': {'type': 'standard'}}},\n",
       "    'number_of_replicas': '1',\n",
       "    'uuid': '-BBVZF5AQGCFFwH-BlO_lQ',\n",
       "    'version': {'created': '8050099'}}}},\n",
       " 'label': {'aliases': {},\n",
       "  'mappings': {'properties': {'answer': {'type': 'flattened'},\n",
       "    'created_at': {'type': 'date',\n",
       "     'format': 'yyyy-MM-dd HH:mm:ss||yyyy-MM-dd||epoch_millis'},\n",
       "    'document': {'type': 'flattened'},\n",
       "    'document_id': {'type': 'keyword'},\n",
       "    'is_correct_answer': {'type': 'boolean'},\n",
       "    'is_correct_document': {'type': 'boolean'},\n",
       "    'no_answer': {'type': 'boolean'},\n",
       "    'origin': {'type': 'keyword'},\n",
       "    'pipeline_id': {'type': 'keyword'},\n",
       "    'query': {'type': 'text'},\n",
       "    'updated_at': {'type': 'date',\n",
       "     'format': 'yyyy-MM-dd HH:mm:ss||yyyy-MM-dd||epoch_millis'}}},\n",
       "  'settings': {'index': {'routing': {'allocation': {'include': {'_tier_preference': 'data_content'}}},\n",
       "    'number_of_shards': '1',\n",
       "    'provided_name': 'label',\n",
       "    'creation_date': '1668399037477',\n",
       "    'number_of_replicas': '1',\n",
       "    'uuid': 'UJrfTVgoTIqZygF9jTi7rg',\n",
       "    'version': {'created': '8050099'}}}},\n",
       " 'squad_docs': {'aliases': {},\n",
       "  'mappings': {'dynamic_templates': [{'strings': {'path_match': '*',\n",
       "      'match_mapping_type': 'string',\n",
       "      'mapping': {'type': 'keyword'}}}],\n",
       "   'properties': {'content': {'type': 'text'},\n",
       "    'content_type': {'type': 'keyword'},\n",
       "    'embedding': {'type': 'dense_vector', 'dims': 768},\n",
       "    'name': {'type': 'keyword'}}},\n",
       "  'settings': {'index': {'routing': {'allocation': {'include': {'_tier_preference': 'data_content'}}},\n",
       "    'number_of_shards': '1',\n",
       "    'provided_name': 'squad_docs',\n",
       "    'creation_date': '1668399037361',\n",
       "    'analysis': {'analyzer': {'default': {'type': 'standard'}}},\n",
       "    'number_of_replicas': '1',\n",
       "    'uuid': '0LHD9HXERzus5c9a24vq3Q',\n",
       "    'version': {'created': '8050099'}}}}}"
      ]
     },
     "execution_count": 5,
     "metadata": {},
     "output_type": "execute_result"
    }
   ],
   "source": [
    "# print(requests.get('http://localhost:9200/_cat/indices').text)\n",
    "es.indices.get(index=\"*\")"
   ]
  },
  {
   "cell_type": "markdown",
   "metadata": {},
   "source": [
    "Now let's initialize a new index *aurelius* which we will use to store our *Meditations* dataset."
   ]
  },
  {
   "cell_type": "code",
   "execution_count": 6,
   "metadata": {},
   "outputs": [
    {
     "name": "stderr",
     "output_type": "stream",
     "text": [
      "2022-11-15 20:19:19.863178: I tensorflow/core/platform/cpu_feature_guard.cc:193] This TensorFlow binary is optimized with oneAPI Deep Neural Network Library (oneDNN) to use the following CPU instructions in performance-critical operations:  AVX2 FMA\n",
      "To enable them in other operations, rebuild TensorFlow with the appropriate compiler flags.\n",
      "2022-11-15 20:19:19.976030: E tensorflow/stream_executor/cuda/cuda_blas.cc:2981] Unable to register cuBLAS factory: Attempting to register factory for plugin cuBLAS when one has already been registered\n",
      "2022-11-15 20:19:20.290710: W tensorflow/stream_executor/platform/default/dso_loader.cc:64] Could not load dynamic library 'libnvinfer.so.7'; dlerror: libnvinfer.so.7: cannot open shared object file: No such file or directory\n",
      "2022-11-15 20:19:20.290803: W tensorflow/stream_executor/platform/default/dso_loader.cc:64] Could not load dynamic library 'libnvinfer_plugin.so.7'; dlerror: libnvinfer_plugin.so.7: cannot open shared object file: No such file or directory\n",
      "2022-11-15 20:19:20.290808: W tensorflow/compiler/tf2tensorrt/utils/py_utils.cc:38] TF-TRT Warning: Cannot dlopen some TensorRT libraries. If you would like to use Nvidia GPU with TensorRT, please make sure the missing libraries mentioned above are installed properly.\n"
     ]
    }
   ],
   "source": [
    "from haystack.document_stores.elasticsearch import ElasticsearchDocumentStore\n",
    "\n",
    "doc_store = ElasticsearchDocumentStore(\n",
    "    host='localhost',\n",
    "    scheme='https', \n",
    "    username=credential_dict['username'], \n",
    "    password=credential_dict['pwd'], \n",
    "    ca_certs=credential_dict['ca_certs'],\n",
    "    index='aurelius'\n",
    ")"
   ]
  },
  {
   "cell_type": "code",
   "execution_count": 7,
   "metadata": {},
   "outputs": [
    {
     "name": "stderr",
     "output_type": "stream",
     "text": [
      "/home/tola/anaconda3/lib/python3.9/site-packages/urllib3/connectionpool.py:1013: InsecureRequestWarning: Unverified HTTPS request is being made to host 'localhost'. Adding certificate verification is strongly advised. See: https://urllib3.readthedocs.io/en/1.26.x/advanced-usage.html#ssl-warnings\n",
      "  warnings.warn(\n"
     ]
    },
    {
     "data": {
      "text/plain": [
       "{'aliases': {},\n",
       " 'mappings': {'dynamic_templates': [{'strings': {'path_match': '*',\n",
       "     'match_mapping_type': 'string',\n",
       "     'mapping': {'type': 'keyword'}}}],\n",
       "  'properties': {'content': {'type': 'text'},\n",
       "   'content_type': {'type': 'keyword'},\n",
       "   'embedding': {'type': 'dense_vector', 'dims': 768},\n",
       "   'name': {'type': 'keyword'},\n",
       "   'source': {'type': 'keyword'}}},\n",
       " 'settings': {'index': {'routing': {'allocation': {'include': {'_tier_preference': 'data_content'}}},\n",
       "   'number_of_shards': '1',\n",
       "   'provided_name': 'aurelius',\n",
       "   'creation_date': '1668568092396',\n",
       "   'analysis': {'analyzer': {'default': {'type': 'standard'}}},\n",
       "   'number_of_replicas': '1',\n",
       "   'uuid': '-BBVZF5AQGCFFwH-BlO_lQ',\n",
       "   'version': {'created': '8050099'}}}}"
      ]
     },
     "execution_count": 7,
     "metadata": {},
     "output_type": "execute_result"
    }
   ],
   "source": [
    "# print(requests.get('http://localhost:9200/_cat/indices').text)\n",
    "es.indices.get(index=\"*\")['aurelius']"
   ]
  },
  {
   "cell_type": "markdown",
   "metadata": {},
   "source": [
    "Now we need to format our data into a list of dictionaries before passing it along to Elasticsearch. We will create the format:\n",
    "\n",
    "```json\n",
    "{\n",
    "    'text': '<paragraph>',\n",
    "    'meta': {\n",
    "        'source': 'meditations'\n",
    "    }\n",
    "}\n",
    "```"
   ]
  },
  {
   "cell_type": "code",
   "execution_count": 8,
   "metadata": {},
   "outputs": [],
   "source": [
    "data_json = [\n",
    "    {\n",
    "        'content': paragraph,\n",
    "        'meta': {\n",
    "            'source': 'meditations'\n",
    "        }\n",
    "    } for paragraph in text\n",
    "]"
   ]
  },
  {
   "cell_type": "code",
   "execution_count": 9,
   "metadata": {},
   "outputs": [
    {
     "data": {
      "text/plain": [
       "[{'content': 'From my grandfather Verus I learned good morals and the government of my temper.',\n",
       "  'meta': {'source': 'meditations'}},\n",
       " {'content': 'From the reputation and remembrance of my father, modesty and a manly character.',\n",
       "  'meta': {'source': 'meditations'}},\n",
       " {'content': 'From my mother, piety and beneficence, and abstinence, not only from evil deeds, but even from evil thoughts; and further, simplicity in my way of living, far removed from the habits of the rich.',\n",
       "  'meta': {'source': 'meditations'}}]"
      ]
     },
     "execution_count": 9,
     "metadata": {},
     "output_type": "execute_result"
    }
   ],
   "source": [
    "data_json[:3]"
   ]
  },
  {
   "cell_type": "code",
   "execution_count": 10,
   "metadata": {},
   "outputs": [
    {
     "data": {
      "text/plain": [
       "507"
      ]
     },
     "execution_count": 10,
     "metadata": {},
     "output_type": "execute_result"
    }
   ],
   "source": [
    "len(data_json)"
   ]
  },
  {
   "cell_type": "markdown",
   "metadata": {},
   "source": [
    "Now we simply write our data to Elasticsearch."
   ]
  },
  {
   "cell_type": "code",
   "execution_count": 11,
   "metadata": {},
   "outputs": [],
   "source": [
    "doc_store.write_documents(data_json)"
   ]
  },
  {
   "cell_type": "markdown",
   "metadata": {},
   "source": [
    "And confirm that we have uploaded *507* items."
   ]
  },
  {
   "cell_type": "code",
   "execution_count": 12,
   "metadata": {},
   "outputs": [
    {
     "name": "stdout",
     "output_type": "stream",
     "text": [
      "{'value': 507, 'relation': 'eq'}\n"
     ]
    },
    {
     "name": "stderr",
     "output_type": "stream",
     "text": [
      "/home/tola/anaconda3/lib/python3.9/site-packages/urllib3/connectionpool.py:1013: InsecureRequestWarning: Unverified HTTPS request is being made to host 'localhost'. Adding certificate verification is strongly advised. See: https://urllib3.readthedocs.io/en/1.26.x/advanced-usage.html#ssl-warnings\n",
      "  warnings.warn(\n"
     ]
    }
   ],
   "source": [
    "# requests.get('http://localhost:9200/aurelius/_count').json()\n",
    "result=es.search(index='aurelius')\n",
    "print(result['hits']['total'])"
   ]
  },
  {
   "cell_type": "markdown",
   "metadata": {},
   "source": [
    "Perfect!"
   ]
  }
 ],
 "metadata": {
  "kernelspec": {
   "display_name": "Python 3 (ipykernel)",
   "language": "python",
   "name": "python3"
  },
  "language_info": {
   "codemirror_mode": {
    "name": "ipython",
    "version": 3
   },
   "file_extension": ".py",
   "mimetype": "text/x-python",
   "name": "python",
   "nbconvert_exporter": "python",
   "pygments_lexer": "ipython3",
   "version": "3.9.7"
  }
 },
 "nbformat": 4,
 "nbformat_minor": 4
}
