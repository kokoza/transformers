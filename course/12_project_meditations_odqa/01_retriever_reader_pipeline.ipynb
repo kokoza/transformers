{
 "cells": [
  {
   "cell_type": "markdown",
   "metadata": {},
   "source": [
    "# Retriever Reader Pipeline\n",
    "\n",
    "We've setup our Elasticsearch instance and are now ready to prepare the remainder of our ODQA pipeline - our *retriever* and *reader*.\n",
    "\n",
    "First we initialize the connection to our Elasticsearch document store."
   ]
  },
  {
   "cell_type": "code",
   "execution_count": 3,
   "metadata": {},
   "outputs": [],
   "source": [
    "# from haystack.document_store.elasticsearch import ElasticsearchDocumentStore\n",
    "\n",
    "# doc_store = ElasticsearchDocumentStore(\n",
    "#     host='localhost',\n",
    "#     username='', password='',\n",
    "#     index='aurelius'\n",
    "# )\n",
    "\n",
    "def reading(file_name = '../11_reader-retriever_qa_with_haystack/credentials.txt'):\n",
    "    s = open(file_name, 'r').read()\n",
    "    dict = eval(s)\n",
    "    return(dict)\n",
    "\n",
    "credential_dict = reading()\n",
    "\n",
    "from haystack.document_stores.elasticsearch import ElasticsearchDocumentStore\n",
    "\n",
    "doc_store = ElasticsearchDocumentStore(\n",
    "    host='localhost',\n",
    "    scheme='https', \n",
    "    username=credential_dict['username'], \n",
    "    password=credential_dict['pwd'], \n",
    "    ca_certs=credential_dict['ca_certs'],\n",
    "    index='aurelius'\n",
    ")"
   ]
  },
  {
   "cell_type": "markdown",
   "metadata": {},
   "source": [
    "Then we initialize our retriever and reader models. We will be using [deepset/bert-base-cased-squad2](https://huggingface.co/deepset/bert-base-cased-squad2) as our reader model."
   ]
  },
  {
   "cell_type": "code",
   "execution_count": 6,
   "metadata": {},
   "outputs": [],
   "source": [
    "# from haystack.retriever.sparse import ElasticsearchRetriever\n",
    "from haystack.nodes import BM25Retriever\n",
    "\n",
    "\n",
    "# intialize BM25 retriever\n",
    "# retriever = ElasticsearchRetriever(doc_store)  # BM25\n",
    "retriever = BM25Retriever(doc_store)"
   ]
  },
  {
   "cell_type": "code",
   "execution_count": 7,
   "metadata": {},
   "outputs": [],
   "source": [
    "# from haystack.reader.farm import FARMReader\n",
    "from haystack.nodes import FARMReader\n",
    "\n",
    "reader = FARMReader(model_name_or_path='deepset/bert-base-cased-squad2',\n",
    "                    context_window_size=1500,\n",
    "                    use_gpu=True)"
   ]
  },
  {
   "cell_type": "markdown",
   "metadata": {},
   "source": [
    "And now we initialize our ODQA pipeline."
   ]
  },
  {
   "cell_type": "code",
   "execution_count": 8,
   "metadata": {},
   "outputs": [],
   "source": [
    "# from haystack.pipeline import ExtractiveQAPipeline\n",
    "from haystack.pipelines import ExtractiveQAPipeline\n",
    "\n",
    "qa = ExtractiveQAPipeline(reader=reader, retriever=retriever)"
   ]
  },
  {
   "cell_type": "markdown",
   "metadata": {},
   "source": [
    "Now we can begin asking questions!"
   ]
  },
  {
   "cell_type": "code",
   "execution_count": 9,
   "metadata": {
    "scrolled": true
   },
   "outputs": [
    {
     "name": "stderr",
     "output_type": "stream",
     "text": [
      "Inferencing Samples: 100%|███████████████████████████████████████████████████████████████████████████████████████████████████████████████████████████████████████████████████████████████████████████████████████████████████████████████████████████████████████████████████████████████| 1/1 [00:02<00:00,  2.95s/ Batches]\n"
     ]
    },
    {
     "data": {
      "text/plain": [
       "{'query': 'What did your grandfather teach?',\n",
       " 'no_ans_gap': -3.121255397796631,\n",
       " 'answers': [<Answer {'answer': 'good morals and the government of my temper', 'type': 'extractive', 'score': 0.16657505929470062, 'context': 'From my grandfather Verus I learned good morals and the government of my temper.', 'offsets_in_document': [{'start': 36, 'end': 79}], 'offsets_in_context': [{'start': 36, 'end': 79}], 'document_id': 'ecc466cb76ed8dedab8752cc84e411b4', 'meta': {'source': 'meditations'}}>,\n",
       "  <Answer {'answer': 'thy life under thy mother', 'type': 'extractive', 'score': 0.024128783494234085, 'context': 'Termination of activity, cessation from movement and opinion, and in a sense their death, is no evil. Turn thy thoughts now to the consideration of thy life, thy life as a child, as a youth, thy manhood, thy old age, for in these also every change was a death. Is this anything to fear? Turn thy thoughts now to thy life under thy grandfather, then to thy life under thy mother, then to thy life under thy father; and as thou findest many other differences and changes and terminations, ask thyself, Is this anything to fear? In like manner, then, neither are the termination and cessation and change of thy whole life a thing to be afraid of.', 'offsets_in_document': [{'start': 352, 'end': 377}], 'offsets_in_context': [{'start': 352, 'end': 377}], 'document_id': 'c18a0187633896c0b4275e044bf742ee', 'meta': {'source': 'meditations'}}>,\n",
       "  <Answer {'answer': 'good teachers', 'type': 'extractive', 'score': 0.011039139702916145, 'context': 'From my great-grandfather, not to have frequented public schools, and to have had good teachers at home, and to know that on such things a man should spend liberally.', 'offsets_in_document': [{'start': 82, 'end': 95}], 'offsets_in_context': [{'start': 82, 'end': 95}], 'document_id': '366d76bbaee1f45066c8986efe265a0b', 'meta': {'source': 'meditations'}}>,\n",
       "  <Answer {'answer': 'self-government', 'type': 'extractive', 'score': 0.004011610988527536, 'context': 'From Maximus I learned self-government, and not to be led aside by anything; and cheerfulness in all circumstances, as well as in illness; and a just admixture in the moral character of sweetness and dignity, and to do what was set before me without complaining. I observed that everybody believed that he thought as he spoke, and that in all that he did he never had any bad intention; and he never showed amazement and surprise, and was never in a hurry, and never put off doing a thing, nor was perplexed nor dejected, nor did he ever laugh to disguise his vexation, nor, on the other hand, was he ever passionate or suspicious. He was accustomed to do acts of beneficence, and was ready to forgive, and was free from all falsehood; and he presented the appearance of a man who could not be diverted from right rather than of a man who had been improved. I observed, too, that no man could ever think that he was despised by Maximus, or ever venture to think himself a better man. He had also the art of being humorous in an agreeable way.', 'offsets_in_document': [{'start': 23, 'end': 38}], 'offsets_in_context': [{'start': 23, 'end': 38}], 'document_id': '798a2fd2d075fe24606a777f348aca3d', 'meta': {'source': 'meditations'}}>,\n",
       "  <Answer {'answer': 'Teach them then or bear', 'type': 'extractive', 'score': 0.003927570767700672, 'context': 'Men exist for the sake of one another. Teach them then or bear with them.', 'offsets_in_document': [{'start': 39, 'end': 62}], 'offsets_in_context': [{'start': 39, 'end': 62}], 'document_id': '2150cbb98d0d573101968513d7fb4af', 'meta': {'source': 'meditations'}}>,\n",
       "  <Answer {'answer': 'to be themselves praised by posterity, by those whom they have never seen or ever will see, this they set much value on. But this is very much the same as if thou shouldst be grieved because those who have lived before thee did not praise thee', 'type': 'extractive', 'score': 0.0003068694204557687, 'context': 'How strangely men act. They will not praise those who are living at the same time and living with themselves; but to be themselves praised by posterity, by those whom they have never seen or ever will see, this they set much value on. But this is very much the same as if thou shouldst be grieved because those who have lived before thee did not praise thee.', 'offsets_in_document': [{'start': 114, 'end': 357}], 'offsets_in_context': [{'start': 114, 'end': 357}], 'document_id': '3ea45896a0ea4ae48663003a48029424', 'meta': {'source': 'meditations'}}>,\n",
       "  <Answer {'answer': 'philosophy', 'type': 'extractive', 'score': 0.00030287401750683784, 'context': 'Epicurus says, In my sickness my conversation was not about my bodily sufferings, nor, says he, did I talk on such subjects to those who visited me; but I continued to discourse on the nature of things as before, keeping to this main point, how the mind, while participating in such movements as go on in the poor flesh, shall be free from perturbations and maintain its proper good. Nor did I, he says, give the physicians an opportunity of putting on solemn looks, as if they were doing something great, but my life went on well and happily. Do, then, the same that he did both in sickness, if thou art sick, and in any other circumstances; for never to desert philosophy in any events that may befall us, nor to hold trifling talk either with an ignorant man or with one unacquainted with nature, is a principle of all schools of philosophy; but to be intent only on that which thou art now doing and on the instrument by which thou doest it.', 'offsets_in_document': [{'start': 663, 'end': 673}], 'offsets_in_context': [{'start': 663, 'end': 673}], 'document_id': 'b88b5ac821f7c6a2ae636cce2d882f88', 'meta': {'source': 'meditations'}}>,\n",
       "  <Answer {'answer': 'nature and profitable', 'type': 'extractive', 'score': 0.0001608641177881509, 'context': 'How cruel it is not to allow men to strive after the things which appear to them to be suitable to their nature and profitable! And yet in a manner thou dost not allow them to do this, when thou art vexed because they do wrong. For they are certainly moved towards things because they suppose them to be suitable to their nature and profitable to them.- But it is not so.- Teach them then, and show them without being angry.', 'offsets_in_document': [{'start': 105, 'end': 126}], 'offsets_in_context': [{'start': 105, 'end': 126}], 'document_id': '8149dd43100c073a25aeec95588ac011', 'meta': {'source': 'meditations'}}>,\n",
       "  <Answer {'answer': 'foul smell and blood in a bag', 'type': 'extractive', 'score': 0.00011568669287953526, 'context': 'Does Panthea or Pergamus now sit by the tomb of Verus? Does Chaurias or Diotimus sit by the tomb of Hadrian? That would be ridiculous. Well, suppose they did sit there, would the dead be conscious of it? And if the dead were conscious, would they be pleased? And if they were pleased, would that make them immortal? Was it not in the order of destiny that these persons too should first become old women and old men and then die? What then would those do after these were dead? All this is foul smell and blood in a bag.', 'offsets_in_document': [{'start': 490, 'end': 519}], 'offsets_in_context': [{'start': 490, 'end': 519}], 'document_id': 'dd42d5594f0dc8416537a3b3c1f1d61c', 'meta': {'source': 'meditations'}}>,\n",
       "  <Answer {'answer': 'fig-tree to have juice', 'type': 'extractive', 'score': 5.674807107425295e-05, 'context': 'It is natural that these things should be done by such persons, it is a matter of necessity; and if a man will not have it so, he will not allow the fig-tree to have juice. But by all means bear this in mind, that within a very short time both thou and he will be dead; and soon not even your names will be left behind.', 'offsets_in_document': [{'start': 149, 'end': 171}], 'offsets_in_context': [{'start': 149, 'end': 171}], 'document_id': 'c8f99a89c5399c2ad0a001747f8db0d1', 'meta': {'source': 'meditations'}}>],\n",
       " 'documents': [<Document: {'content': 'Men exist for the sake of one another. Teach them then or bear with them.', 'content_type': 'text', 'score': 0.7322221779074343, 'meta': {'source': 'meditations'}, 'embedding': None, 'id': '2150cbb98d0d573101968513d7fb4af'}>,\n",
       "  <Document: {'content': 'From my grandfather Verus I learned good morals and the government of my temper.', 'content_type': 'text', 'score': 0.7208915763758528, 'meta': {'source': 'meditations'}, 'embedding': None, 'id': 'ecc466cb76ed8dedab8752cc84e411b4'}>,\n",
       "  <Document: {'content': 'From my great-grandfather, not to have frequented public schools, and to have had good teachers at home, and to know that on such things a man should spend liberally.', 'content_type': 'text', 'score': 0.7011058050766118, 'meta': {'source': 'meditations'}, 'embedding': None, 'id': '366d76bbaee1f45066c8986efe265a0b'}>,\n",
       "  <Document: {'content': 'It is natural that these things should be done by such persons, it is a matter of necessity; and if a man will not have it so, he will not allow the fig-tree to have juice. But by all means bear this in mind, that within a very short time both thou and he will be dead; and soon not even your names will be left behind.', 'content_type': 'text', 'score': 0.6908060010236104, 'meta': {'source': 'meditations'}, 'embedding': None, 'id': 'c8f99a89c5399c2ad0a001747f8db0d1'}>,\n",
       "  <Document: {'content': 'How cruel it is not to allow men to strive after the things which appear to them to be suitable to their nature and profitable! And yet in a manner thou dost not allow them to do this, when thou art vexed because they do wrong. For they are certainly moved towards things because they suppose them to be suitable to their nature and profitable to them.- But it is not so.- Teach them then, and show them without being angry.', 'content_type': 'text', 'score': 0.6661904567030548, 'meta': {'source': 'meditations'}, 'embedding': None, 'id': '8149dd43100c073a25aeec95588ac011'}>,\n",
       "  <Document: {'content': 'Epicurus says, In my sickness my conversation was not about my bodily sufferings, nor, says he, did I talk on such subjects to those who visited me; but I continued to discourse on the nature of things as before, keeping to this main point, how the mind, while participating in such movements as go on in the poor flesh, shall be free from perturbations and maintain its proper good. Nor did I, he says, give the physicians an opportunity of putting on solemn looks, as if they were doing something great, but my life went on well and happily. Do, then, the same that he did both in sickness, if thou art sick, and in any other circumstances; for never to desert philosophy in any events that may befall us, nor to hold trifling talk either with an ignorant man or with one unacquainted with nature, is a principle of all schools of philosophy; but to be intent only on that which thou art now doing and on the instrument by which thou doest it.', 'content_type': 'text', 'score': 0.6510449397543675, 'meta': {'source': 'meditations'}, 'embedding': None, 'id': 'b88b5ac821f7c6a2ae636cce2d882f88'}>,\n",
       "  <Document: {'content': 'From Maximus I learned self-government, and not to be led aside by anything; and cheerfulness in all circumstances, as well as in illness; and a just admixture in the moral character of sweetness and dignity, and to do what was set before me without complaining. I observed that everybody believed that he thought as he spoke, and that in all that he did he never had any bad intention; and he never showed amazement and surprise, and was never in a hurry, and never put off doing a thing, nor was perplexed nor dejected, nor did he ever laugh to disguise his vexation, nor, on the other hand, was he ever passionate or suspicious. He was accustomed to do acts of beneficence, and was ready to forgive, and was free from all falsehood; and he presented the appearance of a man who could not be diverted from right rather than of a man who had been improved. I observed, too, that no man could ever think that he was despised by Maximus, or ever venture to think himself a better man. He had also the art of being humorous in an agreeable way.', 'content_type': 'text', 'score': 0.6425392669963337, 'meta': {'source': 'meditations'}, 'embedding': None, 'id': '798a2fd2d075fe24606a777f348aca3d'}>,\n",
       "  <Document: {'content': 'Does Panthea or Pergamus now sit by the tomb of Verus? Does Chaurias or Diotimus sit by the tomb of Hadrian? That would be ridiculous. Well, suppose they did sit there, would the dead be conscious of it? And if the dead were conscious, would they be pleased? And if they were pleased, would that make them immortal? Was it not in the order of destiny that these persons too should first become old women and old men and then die? What then would those do after these were dead? All this is foul smell and blood in a bag.', 'content_type': 'text', 'score': 0.6408262431774636, 'meta': {'source': 'meditations'}, 'embedding': None, 'id': 'dd42d5594f0dc8416537a3b3c1f1d61c'}>,\n",
       "  <Document: {'content': 'Termination of activity, cessation from movement and opinion, and in a sense their death, is no evil. Turn thy thoughts now to the consideration of thy life, thy life as a child, as a youth, thy manhood, thy old age, for in these also every change was a death. Is this anything to fear? Turn thy thoughts now to thy life under thy grandfather, then to thy life under thy mother, then to thy life under thy father; and as thou findest many other differences and changes and terminations, ask thyself, Is this anything to fear? In like manner, then, neither are the termination and cessation and change of thy whole life a thing to be afraid of.', 'content_type': 'text', 'score': 0.6366416815738632, 'meta': {'source': 'meditations'}, 'embedding': None, 'id': 'c18a0187633896c0b4275e044bf742ee'}>,\n",
       "  <Document: {'content': 'How strangely men act. They will not praise those who are living at the same time and living with themselves; but to be themselves praised by posterity, by those whom they have never seen or ever will see, this they set much value on. But this is very much the same as if thou shouldst be grieved because those who have lived before thee did not praise thee.', 'content_type': 'text', 'score': 0.6277992522181182, 'meta': {'source': 'meditations'}, 'embedding': None, 'id': '3ea45896a0ea4ae48663003a48029424'}>],\n",
       " 'root_node': 'Query',\n",
       " 'params': {},\n",
       " 'node_id': 'Reader'}"
      ]
     },
     "execution_count": 9,
     "metadata": {},
     "output_type": "execute_result"
    }
   ],
   "source": [
    "qa.run(query='What did your grandfather teach?')"
   ]
  },
  {
   "cell_type": "code",
   "execution_count": 14,
   "metadata": {},
   "outputs": [
    {
     "name": "stderr",
     "output_type": "stream",
     "text": [
      "Inferencing Samples: 100%|███████████████████████████████████████████████████████████████████████████████████████████████████████████████████████████████████████████████████████████████████████████████████████████████████████████████████████████████████████████████████████████████| 1/1 [00:00<00:00,  3.81 Batches/s]\n"
     ]
    },
    {
     "data": {
      "text/plain": [
       "{'query': 'What is the Universe?',\n",
       " 'no_ans_gap': 9.206116199493408,\n",
       " 'answers': [<Answer {'answer': 'the universe loves to make whatever is about to be', 'type': 'extractive', 'score': 0.7264758348464966, 'context': '\"The earth loves the shower\"; and \"the solemn aether loves\": and the universe loves to make whatever is about to be. I say then to the universe, that I love as thou lovest. And is not this too said, that \"this or that loves (is wont) to be produced\"?', 'offsets_in_document': [{'start': 65, 'end': 115}], 'offsets_in_context': [{'start': 65, 'end': 115}], 'document_id': 'dfe112a37a09939594906ff8a0d7be8a', 'meta': {'source': 'meditations'}}>,\n",
       "  <Answer {'answer': 'a well-arranged universe', 'type': 'extractive', 'score': 0.7179001569747925, 'context': 'Either it is a well-arranged universe or a chaos huddled together, but still a universe. But can a certain order subsist in thee, and disorder in the All? And this too when all things are so separated and diffused and sympathetic.', 'offsets_in_document': [{'start': 13, 'end': 37}], 'offsets_in_context': [{'start': 13, 'end': 37}], 'document_id': '5713bc9e6d666128d475dc121a4747db', 'meta': {'source': 'meditations'}}>,\n",
       "  <Answer {'answer': 'universe', 'type': 'extractive', 'score': 0.42453739047050476, 'context': 'What is thy art? To be good. And how is this accomplished well except by general principles, some about the nature of the universe, and others about the proper constitution of man?', 'offsets_in_document': [{'start': 122, 'end': 130}], 'offsets_in_context': [{'start': 122, 'end': 130}], 'document_id': 'd82018bb6d9e387d13e62efe36f458c6', 'meta': {'source': 'meditations'}}>],\n",
       " 'documents': [<Document: {'content': 'What is thy art? To be good. And how is this accomplished well except by general principles, some about the nature of the universe, and others about the proper constitution of man?', 'content_type': 'text', 'score': 0.6584029097715121, 'meta': {'source': 'meditations'}, 'embedding': None, 'id': 'd82018bb6d9e387d13e62efe36f458c6'}>,\n",
       "  <Document: {'content': 'Remember how long thou hast been putting off these things, and how often thou hast received an opportunity from the gods, and yet dost not use it. Thou must now at last perceive of what universe thou art a part, and of what administrator of the universe thy existence is an efflux, and that a limit of time is fixed for thee, which if thou dost not use for clearing away the clouds from thy mind, it will go and thou wilt go, and it will never return.', 'content_type': 'text', 'score': 0.6565670951095068, 'meta': {'source': 'meditations'}, 'embedding': None, 'id': '7d3c268229411f9221435078678cd8e5'}>,\n",
       "  <Document: {'content': 'Hasten to examine thy own ruling faculty and that of the universe and that of thy neighbour: thy own that thou mayest make it just: and that of the universe, that thou mayest remember of what thou art a part; and that of thy neighbour, that thou mayest know whether he has acted ignorantly or with knowledge, and that thou mayest also consider that his ruling faculty is akin to thine.', 'content_type': 'text', 'score': 0.6516674479860318, 'meta': {'source': 'meditations'}, 'embedding': None, 'id': '815cde909b0c6c4162ea851a48cc74f1'}>,\n",
       "  <Document: {'content': 'If he is a stranger to the universe who does not know what is in it, no less is he a stranger who does not know what is going on in it. He is a runaway, who flies from social reason; he is blind, who shuts the eyes of the understanding; he is poor, who has need of another, and has not from himself all things which are useful for life. He is an abscess on the universe who withdraws and separates himself from the reason of our common nature through being displeased with the things which happen, for the same nature produces this, and has produced thee too: he is a piece rent asunder from the state, who tears his own soul from that of reasonable animals, which is one.', 'content_type': 'text', 'score': 0.6484164714098906, 'meta': {'source': 'meditations'}, 'embedding': None, 'id': '24c34422b3a8240dd7aaf58f6ad66a46'}>,\n",
       "  <Document: {'content': 'We are all working together to one end, some with knowledge and design, and others without knowing what they do; as men also when they are asleep, of whom it is Heraclitus, I think, who says that they are labourers and co-operators in the things which take place in the universe. But men co-operate after different fashions: and even those co-operate abundantly, who find fault with what happens and those who try to oppose it and to hinder it; for the universe had need even of such men as these. It remains then for thee to understand among what kind of workmen thou placest thyself; for he who rules all things will certainly make a right use of thee, and he will receive thee among some part of the co-operators and of those whose labours conduce to one end. But be not thou such a part as the mean and ridiculous verse in the play, which Chrysippus speaks of.', 'content_type': 'text', 'score': 0.6360579328986599, 'meta': {'source': 'meditations'}, 'embedding': None, 'id': '7a46e35eb69b9a80999773a33b057bd6'}>,\n",
       "  <Document: {'content': 'All that is from the gods is full of Providence. That which is from fortune is not separated from nature or without an interweaving and involution with the things which are ordered by Providence. From thence all things flow; and there is besides necessity, and that which is for the advantage of the whole universe, of which thou art a part. But that is good for every part of nature which the nature of the whole brings, and what serves to maintain this nature. Now the universe is preserved, as by the changes of the elements so by the changes of things compounded of the elements. Let these principles be enough for thee, let them always be fixed opinions. But cast away the thirst after books, that thou mayest not die murmuring, but cheerfully, truly, and from thy heart thankful to the gods.', 'content_type': 'text', 'score': 0.6348662507025461, 'meta': {'source': 'meditations'}, 'embedding': None, 'id': 'a79aed22688be005626d031d7cbd42c'}>,\n",
       "  <Document: {'content': '\"The earth loves the shower\"; and \"the solemn aether loves\": and the universe loves to make whatever is about to be. I say then to the universe, that I love as thou lovest. And is not this too said, that \"this or that loves (is wont) to be produced\"?', 'content_type': 'text', 'score': 0.6348143524270251, 'meta': {'source': 'meditations'}, 'embedding': None, 'id': 'dfe112a37a09939594906ff8a0d7be8a'}>,\n",
       "  <Document: {'content': 'Why do unskilled and ignorant souls disturb him who has skill and knowledge? What soul then has skill and knowledge? That which knows beginning and end, and knows the reason which pervades all substance and through all time by fixed periods (revolutions) administers the universe.', 'content_type': 'text', 'score': 0.6326689931093179, 'meta': {'source': 'meditations'}, 'embedding': None, 'id': 'fdfbd83989326d4823446124173996a7'}>,\n",
       "  <Document: {'content': 'That which has died falls not out of the universe. If it stays here, it also changes here, and is dissolved into its proper parts, which are elements of the universe and of thyself. And these too change, and they murmur not.', 'content_type': 'text', 'score': 0.6311690498237554, 'meta': {'source': 'meditations'}, 'embedding': None, 'id': '55bee612c9263b42352b42fa41775f2'}>,\n",
       "  <Document: {'content': 'Either it is a well-arranged universe or a chaos huddled together, but still a universe. But can a certain order subsist in thee, and disorder in the All? And this too when all things are so separated and diffused and sympathetic.', 'content_type': 'text', 'score': 0.6294849690921902, 'meta': {'source': 'meditations'}, 'embedding': None, 'id': '5713bc9e6d666128d475dc121a4747db'}>],\n",
       " 'root_node': 'Query',\n",
       " 'params': {'Reader': {'top_k': 3}},\n",
       " 'node_id': 'Reader'}"
      ]
     },
     "execution_count": 14,
     "metadata": {},
     "output_type": "execute_result"
    }
   ],
   "source": [
    "# qa.run(query='What is the Universe?', top_k_reader=3)\n",
    "qa.run(query='What is the Universe?', params={\"Reader\": {\"top_k\": 3}})"
   ]
  },
  {
   "cell_type": "code",
   "execution_count": 16,
   "metadata": {},
   "outputs": [
    {
     "name": "stderr",
     "output_type": "stream",
     "text": [
      "Inferencing Samples: 100%|███████████████████████████████████████████████████████████████████████████████████████████████████████████████████████████████████████████████████████████████████████████████████████████████████████████████████████████████████████████████████████████████| 1/1 [00:00<00:00,  3.92 Batches/s]\n"
     ]
    },
    {
     "data": {
      "text/plain": [
       "{'query': 'What is arte?',\n",
       " 'no_ans_gap': 3.995941162109375,\n",
       " 'answers': [<Answer {'answer': 'the body', 'type': 'extractive', 'score': 0.7202165126800537, 'context': 'Turn it (the body) inside out, and see what kind of thing it is; and when it has grown old, what kind of thing it becomes, and when it is diseased.', 'offsets_in_document': [{'start': 9, 'end': 17}], 'offsets_in_context': [{'start': 9, 'end': 17}], 'document_id': 'edf0d5c6c04f02a0359cfc4f90699cea', 'meta': {'source': 'meditations'}}>,\n",
       "  <Answer {'answer': 'it is useful to act according to nature', 'type': 'extractive', 'score': 0.5466973781585693, 'context': 'No man is tired of receiving what is useful. But it is useful to act according to nature. Do not then be tired of receiving what is useful by doing it to others.', 'offsets_in_document': [{'start': 49, 'end': 88}], 'offsets_in_context': [{'start': 49, 'end': 88}], 'document_id': '3cce136d95420cdb2ae7ae7933dbaf9f', 'meta': {'source': 'meditations'}}>,\n",
       "  <Answer {'answer': 'The reason', 'type': 'extractive', 'score': 0.4662073850631714, 'context': 'The reason which governs knows what its own disposition is, and what it does, and on what material it works.', 'offsets_in_document': [{'start': 0, 'end': 10}], 'offsets_in_context': [{'start': 0, 'end': 10}], 'document_id': 'ddc321f4aac2524ad3e44523c09862c8', 'meta': {'source': 'meditations'}}>],\n",
       " 'documents': [<Document: {'content': 'This thing, what is it in itself, in its own constitution? What is its substance and material? And what its causal nature (or form)? And what is it doing in the world? And how long does it subsist?', 'content_type': 'text', 'score': 0.5770579017452011, 'meta': {'source': 'meditations'}, 'embedding': None, 'id': '48dfd502bc5c26ac0f73717c436f4395'}>,\n",
       "  <Document: {'content': 'In discourse thou must attend to what is said, and in every movement thou must observe what is doing. And in the one thou shouldst see immediately to what end it refers, but in the other watch carefully what is the thing signified.', 'content_type': 'text', 'score': 0.5763623189974453, 'meta': {'source': 'meditations'}, 'embedding': None, 'id': 'af8db66debfb979dd487a6129dbe35cf'}>,\n",
       "  <Document: {'content': 'Remember that all is opinion. For what was said by the Cynic Monimus is manifest: and manifest too is the use of what was said, if a man receives what may be got out of it as far as it is true.', 'content_type': 'text', 'score': 0.5744882298794517, 'meta': {'source': 'meditations'}, 'embedding': None, 'id': 'b6d37976d14ed1e880cfccf922ee72cb'}>,\n",
       "  <Document: {'content': 'This thou must always bear in mind, what is the nature of the whole, and what is my nature, and how this is related to that, and what kind of a part it is of what kind of a whole; and that there is no one who hinders thee from always doing and saying the things which are according to the nature of which thou art a part.', 'content_type': 'text', 'score': 0.5739843075855087, 'meta': {'source': 'meditations'}, 'embedding': None, 'id': 'a30eabf5ca48a12da0931f41efde6402'}>,\n",
       "  <Document: {'content': 'The reason which governs knows what its own disposition is, and what it does, and on what material it works.', 'content_type': 'text', 'score': 0.5739340046990394, 'meta': {'source': 'meditations'}, 'embedding': None, 'id': 'ddc321f4aac2524ad3e44523c09862c8'}>,\n",
       "  <Document: {'content': 'He who does not know what the world is, does not know where he is. And he who does not know for what purpose the world exists, does not know who he is, nor what the world is. But he who has failed in any one of these things could not even say for what purpose he exists himself. What then dost thou think of him who avoids or seeks the praise of those who applaud, of men who know not either where they are or who they are?', 'content_type': 'text', 'score': 0.5729314959841567, 'meta': {'source': 'meditations'}, 'embedding': None, 'id': '237a05c26a5ad3002c5ec768701647c4'}>,\n",
       "  <Document: {'content': 'What is my ruling faculty now to me? And of what nature am I now making it? And for what purpose am I now using it? Is it void of understanding? Is it loosed and rent asunder from social life? Is it melted into and mixed with the poor flesh so as to move together with it?', 'content_type': 'text', 'score': 0.5719253427509132, 'meta': {'source': 'meditations'}, 'embedding': None, 'id': 'f1cca5eaa1ee4caf81d45154fccbee7d'}>,\n",
       "  <Document: {'content': 'No man is tired of receiving what is useful. But it is useful to act according to nature. Do not then be tired of receiving what is useful by doing it to others.', 'content_type': 'text', 'score': 0.5717388663750116, 'meta': {'source': 'meditations'}, 'embedding': None, 'id': '3cce136d95420cdb2ae7ae7933dbaf9f'}>,\n",
       "  <Document: {'content': 'Turn it (the body) inside out, and see what kind of thing it is; and when it has grown old, what kind of thing it becomes, and when it is diseased.', 'content_type': 'text', 'score': 0.5699439350165384, 'meta': {'source': 'meditations'}, 'embedding': None, 'id': 'edf0d5c6c04f02a0359cfc4f90699cea'}>,\n",
       "  <Document: {'content': 'Consider whence each thing is come, and of what it consists, and into what it changes, and what kind of a thing it will be when it has changed, and that it will sustain no harm.', 'content_type': 'text', 'score': 0.569899263542297, 'meta': {'source': 'meditations'}, 'embedding': None, 'id': 'a16e2d833fb24e5fe83b0faa9d7425f7'}>],\n",
       " 'root_node': 'Query',\n",
       " 'params': {'Reader': {'top_k': 3}},\n",
       " 'node_id': 'Reader'}"
      ]
     },
     "execution_count": 16,
     "metadata": {},
     "output_type": "execute_result"
    }
   ],
   "source": [
    "# qa.run(query='What is art?', top_k_reader=3)\n",
    "qa.run(query='What is arte?', params={\"Reader\": {\"top_k\": 3}})"
   ]
  }
 ],
 "metadata": {
  "kernelspec": {
   "display_name": "Python 3 (ipykernel)",
   "language": "python",
   "name": "python3"
  },
  "language_info": {
   "codemirror_mode": {
    "name": "ipython",
    "version": 3
   },
   "file_extension": ".py",
   "mimetype": "text/x-python",
   "name": "python",
   "nbconvert_exporter": "python",
   "pygments_lexer": "ipython3",
   "version": "3.9.7"
  }
 },
 "nbformat": 4,
 "nbformat_minor": 4
}
