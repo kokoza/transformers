{
 "cells": [
  {
   "cell_type": "markdown",
   "id": "norwegian-vitamin",
   "metadata": {},
   "source": [
    "# SQuAD 2.0 Dataset\n",
    "\n",
    "The SQuAD (Stanford Question and Answering Dataset) is a hugely popular dataset containing question and answer pairs scraped from Wikipedia, covering topics ranging from Beyonce, to Physics. As one of the most comprehensive Q&A datasets available, it's only natural that we will be making use of it. So let's explore it.\n",
    "\n",
    "First, we'll need to download the data. There are two JSON files that we are interested in - train and dev, which we can downloaded from `http`. Here we will be storing the SQuAD data in the *../../data/squad* directory, so we must check if this already exists and if not create the directory."
   ]
  },
  {
   "cell_type": "code",
   "execution_count": 1,
   "id": "lucky-inspector",
   "metadata": {},
   "outputs": [],
   "source": [
    "import os\n",
    "\n",
    "squad_dir = '../../data/squad'\n",
    "\n",
    "if not os.path.exists(squad_dir):\n",
    "    os.mkdir(squad_dir)"
   ]
  },
  {
   "cell_type": "markdown",
   "id": "owned-tulsa",
   "metadata": {},
   "source": [
    "Now let's define our SQuAD URL and files."
   ]
  },
  {
   "cell_type": "code",
   "execution_count": 2,
   "id": "satellite-humor",
   "metadata": {},
   "outputs": [],
   "source": [
    "url = 'https://rajpurkar.github.io/SQuAD-explorer/dataset/'\n",
    "files = ['train-v2.0.json', 'dev-v2.0.json']"
   ]
  },
  {
   "cell_type": "markdown",
   "id": "negative-theme",
   "metadata": {},
   "source": [
    "And now we can download and write both files to our *../../squad* directory."
   ]
  },
  {
   "cell_type": "code",
   "execution_count": 3,
   "id": "injured-jungle",
   "metadata": {},
   "outputs": [],
   "source": [
    "import requests\n",
    "\n",
    "for file in files:\n",
    "    res = requests.get(url+file)\n",
    "    # write to file in chunks\n",
    "    with open(os.path.join(squad_dir, file), 'wb') as f:\n",
    "        for chunk in res.iter_content(chunk_size=40):\n",
    "            f.write(chunk)"
   ]
  },
  {
   "cell_type": "markdown",
   "id": "coated-branch",
   "metadata": {},
   "source": [
    "Now that we have both files stored locally, lets open up the training data and see what we have."
   ]
  },
  {
   "cell_type": "code",
   "execution_count": 4,
   "id": "focal-awareness",
   "metadata": {},
   "outputs": [],
   "source": [
    "import json\n",
    "\n",
    "with open(os.path.join(squad_dir, 'train-v2.0.json'), 'rb') as f:\n",
    "    squad = json.load(f)"
   ]
  },
  {
   "cell_type": "markdown",
   "id": "freelance-clock",
   "metadata": {},
   "source": [
    "The JSON structure contains a top-level `'data'` key which contains a list of *groups*, where each group is a topic, such as *Beyonce*, *Chopin*, or *Matter*. We can take a look at the first and last groups respectively."
   ]
  },
  {
   "cell_type": "code",
   "execution_count": null,
   "id": "guilty-conspiracy",
   "metadata": {},
   "outputs": [
    {
     "data": {
      "text/plain": [
       "{'qas': [{'question': 'When did Beyonce start becoming popular?',\n",
       "   'id': '56be85543aeaaa14008c9063',\n",
       "   'answers': [{'text': 'in the late 1990s', 'answer_start': 269}],\n",
       "   'is_impossible': False},\n",
       "  {'question': 'What areas did Beyonce compete in when she was growing up?',\n",
       "   'id': '56be85543aeaaa14008c9065',\n",
       "   'answers': [{'text': 'singing and dancing', 'answer_start': 207}],\n",
       "   'is_impossible': False},\n",
       "  {'question': \"When did Beyonce leave Destiny's Child and become a solo singer?\",\n",
       "   'id': '56be85543aeaaa14008c9066',\n",
       "   'answers': [{'text': '2003', 'answer_start': 526}],\n",
       "   'is_impossible': False},\n",
       "  {'question': 'In what city and state did Beyonce  grow up? ',\n",
       "   'id': '56bf6b0f3aeaaa14008c9601',\n",
       "   'answers': [{'text': 'Houston, Texas', 'answer_start': 166}],\n",
       "   'is_impossible': False},\n",
       "  {'question': 'In which decade did Beyonce become famous?',\n",
       "   'id': '56bf6b0f3aeaaa14008c9602',\n",
       "   'answers': [{'text': 'late 1990s', 'answer_start': 276}],\n",
       "   'is_impossible': False},\n",
       "  {'question': 'In what R&B group was she the lead singer?',\n",
       "   'id': '56bf6b0f3aeaaa14008c9603',\n",
       "   'answers': [{'text': \"Destiny's Child\", 'answer_start': 320}],\n",
       "   'is_impossible': False},\n",
       "  {'question': 'What album made her a worldwide known artist?',\n",
       "   'id': '56bf6b0f3aeaaa14008c9604',\n",
       "   'answers': [{'text': 'Dangerously in Love', 'answer_start': 505}],\n",
       "   'is_impossible': False},\n",
       "  {'question': \"Who managed the Destiny's Child group?\",\n",
       "   'id': '56bf6b0f3aeaaa14008c9605',\n",
       "   'answers': [{'text': 'Mathew Knowles', 'answer_start': 360}],\n",
       "   'is_impossible': False},\n",
       "  {'question': 'When did Beyoncé rise to fame?',\n",
       "   'id': '56d43c5f2ccc5a1400d830a9',\n",
       "   'answers': [{'text': 'late 1990s', 'answer_start': 276}],\n",
       "   'is_impossible': False},\n",
       "  {'question': \"What role did Beyoncé have in Destiny's Child?\",\n",
       "   'id': '56d43c5f2ccc5a1400d830aa',\n",
       "   'answers': [{'text': 'lead singer', 'answer_start': 290}],\n",
       "   'is_impossible': False},\n",
       "  {'question': 'What was the first album Beyoncé released as a solo artist?',\n",
       "   'id': '56d43c5f2ccc5a1400d830ab',\n",
       "   'answers': [{'text': 'Dangerously in Love', 'answer_start': 505}],\n",
       "   'is_impossible': False},\n",
       "  {'question': 'When did Beyoncé release Dangerously in Love?',\n",
       "   'id': '56d43c5f2ccc5a1400d830ac',\n",
       "   'answers': [{'text': '2003', 'answer_start': 526}],\n",
       "   'is_impossible': False},\n",
       "  {'question': 'How many Grammy awards did Beyoncé win for her first solo album?',\n",
       "   'id': '56d43c5f2ccc5a1400d830ad',\n",
       "   'answers': [{'text': 'five', 'answer_start': 590}],\n",
       "   'is_impossible': False},\n",
       "  {'question': \"What was Beyoncé's role in Destiny's Child?\",\n",
       "   'id': '56d43ce42ccc5a1400d830b4',\n",
       "   'answers': [{'text': 'lead singer', 'answer_start': 290}],\n",
       "   'is_impossible': False},\n",
       "  {'question': \"What was the name of Beyoncé's first solo album?\",\n",
       "   'id': '56d43ce42ccc5a1400d830b5',\n",
       "   'answers': [{'text': 'Dangerously in Love', 'answer_start': 505}],\n",
       "   'is_impossible': False}],\n",
       " 'context': 'Beyoncé Giselle Knowles-Carter (/biːˈjɒnseɪ/ bee-YON-say) (born September 4, 1981) is an American singer, songwriter, record producer and actress. Born and raised in Houston, Texas, she performed in various singing and dancing competitions as a child, and rose to fame in the late 1990s as lead singer of R&B girl-group Destiny\\'s Child. Managed by her father, Mathew Knowles, the group became one of the world\\'s best-selling girl groups of all time. Their hiatus saw the release of Beyoncé\\'s debut album, Dangerously in Love (2003), which established her as a solo artist worldwide, earned five Grammy Awards and featured the Billboard Hot 100 number-one singles \"Crazy in Love\" and \"Baby Boy\".'}"
      ]
     },
     "execution_count": 7,
     "metadata": {},
     "output_type": "execute_result"
    }
   ],
   "source": [
    "squad['data'][0]['paragraphs'][0]"
   ]
  },
  {
   "cell_type": "code",
   "execution_count": 9,
   "id": "christian-stretch",
   "metadata": {},
   "outputs": [
    {
     "data": {
      "text/plain": [
       "{'qas': [{'plausible_answers': [{'text': 'ordinary matter composed of atoms',\n",
       "     'answer_start': 50}],\n",
       "   'question': 'What did the term matter include after the 20th century?',\n",
       "   'id': '5a7db48670df9f001a87505f',\n",
       "   'answers': [],\n",
       "   'is_impossible': True},\n",
       "  {'plausible_answers': [{'text': 'matter', 'answer_start': 59}],\n",
       "   'question': 'What are atoms composed of?',\n",
       "   'id': '5a7db48670df9f001a875060',\n",
       "   'answers': [],\n",
       "   'is_impossible': True},\n",
       "  {'plausible_answers': [{'text': 'light or sound', 'answer_start': 128}],\n",
       "   'question': 'What are two examples of matter?',\n",
       "   'id': '5a7db48670df9f001a875061',\n",
       "   'answers': [],\n",
       "   'is_impossible': True},\n",
       "  {'plausible_answers': [{'text': \"its (possibly massless) constituents' motion and interaction energies\",\n",
       "     'answer_start': 315}],\n",
       "   'question': \"What can an object's mass not come from?\",\n",
       "   'id': '5a7db48670df9f001a875062',\n",
       "   'answers': [],\n",
       "   'is_impossible': True},\n",
       "  {'plausible_answers': [{'text': 'fundamental', 'answer_start': 449}],\n",
       "   'question': 'Matter is currently considered to be what kind of concept?',\n",
       "   'id': '5a7db48670df9f001a875063',\n",
       "   'answers': [],\n",
       "   'is_impossible': True}],\n",
       " 'context': \"Before the 20th century, the term matter included ordinary matter composed of atoms and excluded other energy phenomena such as light or sound. This concept of matter may be generalized from atoms to include any objects having mass even when at rest, but this is ill-defined because an object's mass can arise from its (possibly massless) constituents' motion and interaction energies. Thus, matter does not have a universal definition, nor is it a fundamental concept in physics today. Matter is also used loosely as a general term for the substance that makes up all observable physical objects.\"}"
      ]
     },
     "execution_count": 9,
     "metadata": {},
     "output_type": "execute_result"
    }
   ],
   "source": [
    "squad['data'][-1]['paragraphs'][0]"
   ]
  },
  {
   "cell_type": "markdown",
   "id": "sixth-hopkins",
   "metadata": {},
   "source": [
    "### Processing SQuAD Training Data\n",
    "\n",
    "If we compare the first entry on *Beyonce* and the second on *Matter*, we can see that we sometimes return our answers in the `'answers'` key, and sometimes in the `'plausible_answers'` key. So when processing this data we will need to consider some additional logic to deal with this.\n",
    "\n",
    "Secondly, for all samples, we need to iterate through multiple levels. On the highest level we have *groups*, which is where our topics like *'Beyonce'* and *'Matter'* belong. At the next layer we have paragraphs, and in the next we have our question-answer pairs, this structure looks like this:\n",
    "\n",
    "![train-v2.0.json structure](../../assets/images/squad_train_json_structure.png)\n",
    "\n",
    "*(You can check out this structure by opening the **train-v2.0.json** in Jupyter)*\n",
    "\n",
    "We'll work through parsing this data into a cleaner format that we will be using in later notebooks. We need to create a format that consists of a list of dictionaries where each dictionary contains a single `question`, `answer`, and `context`."
   ]
  },
  {
   "cell_type": "code",
   "execution_count": 10,
   "id": "quarterly-medline",
   "metadata": {},
   "outputs": [],
   "source": [
    "# initialize list where we will place all of our data\n",
    "new_squad = []\n",
    "\n",
    "# we need to loop through groups -> paragraphs -> qa_pairs\n",
    "for group in squad['data']:\n",
    "    for paragraph in group['paragraphs']:\n",
    "        # we pull out the context from here\n",
    "        context = paragraph['context']\n",
    "        for qa_pair in paragraph['qas']:\n",
    "            # we pull out the question\n",
    "            question = qa_pair['question']\n",
    "            # now the logic to check if we have 'answers' or 'plausible_answers'\n",
    "            if 'answers' in qa_pair.keys() and len(qa_pair['answers']) > 0:\n",
    "                answer = qa_pair['answers'][0]['text']\n",
    "            elif 'plausible_answers' in qa_pair.keys() and len(qa_pair['plausible_answers']) > 0:\n",
    "                answer = qa_pair['plausible_answers'][0]['text']\n",
    "            else:\n",
    "                # this shouldn't happen, but just in case we just set answer = None\n",
    "                answer = None\n",
    "            # append dictionary sample to parsed squad\n",
    "            new_squad.append({\n",
    "                'question': question,\n",
    "                'answer': answer,\n",
    "                'context': context\n",
    "            })"
   ]
  },
  {
   "cell_type": "code",
   "execution_count": 11,
   "id": "destroyed-newton",
   "metadata": {},
   "outputs": [
    {
     "data": {
      "text/plain": [
       "([{'question': 'When did Beyonce start becoming popular?',\n",
       "   'answer': 'in the late 1990s',\n",
       "   'context': 'Beyoncé Giselle Knowles-Carter (/biːˈjɒnseɪ/ bee-YON-say) (born September 4, 1981) is an American singer, songwriter, record producer and actress. Born and raised in Houston, Texas, she performed in various singing and dancing competitions as a child, and rose to fame in the late 1990s as lead singer of R&B girl-group Destiny\\'s Child. Managed by her father, Mathew Knowles, the group became one of the world\\'s best-selling girl groups of all time. Their hiatus saw the release of Beyoncé\\'s debut album, Dangerously in Love (2003), which established her as a solo artist worldwide, earned five Grammy Awards and featured the Billboard Hot 100 number-one singles \"Crazy in Love\" and \"Baby Boy\".'},\n",
       "  {'question': 'What areas did Beyonce compete in when she was growing up?',\n",
       "   'answer': 'singing and dancing',\n",
       "   'context': 'Beyoncé Giselle Knowles-Carter (/biːˈjɒnseɪ/ bee-YON-say) (born September 4, 1981) is an American singer, songwriter, record producer and actress. Born and raised in Houston, Texas, she performed in various singing and dancing competitions as a child, and rose to fame in the late 1990s as lead singer of R&B girl-group Destiny\\'s Child. Managed by her father, Mathew Knowles, the group became one of the world\\'s best-selling girl groups of all time. Their hiatus saw the release of Beyoncé\\'s debut album, Dangerously in Love (2003), which established her as a solo artist worldwide, earned five Grammy Awards and featured the Billboard Hot 100 number-one singles \"Crazy in Love\" and \"Baby Boy\".'}],\n",
       " [{'question': 'Matter usually does not need to be used in conjunction with what?',\n",
       "   'answer': 'a specifying modifier',\n",
       "   'context': 'The term \"matter\" is used throughout physics in a bewildering variety of contexts: for example, one refers to \"condensed matter physics\", \"elementary matter\", \"partonic\" matter, \"dark\" matter, \"anti\"-matter, \"strange\" matter, and \"nuclear\" matter. In discussions of matter and antimatter, normal matter has been referred to by Alfvén as koinomatter (Gk. common matter). It is fair to say that in physics, there is no broad consensus as to a general definition of matter, and the term \"matter\" usually is used in conjunction with a specifying modifier.'},\n",
       "  {'question': 'What field of study has a variety of unusual contexts?',\n",
       "   'answer': 'physics',\n",
       "   'context': 'The term \"matter\" is used throughout physics in a bewildering variety of contexts: for example, one refers to \"condensed matter physics\", \"elementary matter\", \"partonic\" matter, \"dark\" matter, \"anti\"-matter, \"strange\" matter, and \"nuclear\" matter. In discussions of matter and antimatter, normal matter has been referred to by Alfvén as koinomatter (Gk. common matter). It is fair to say that in physics, there is no broad consensus as to a general definition of matter, and the term \"matter\" usually is used in conjunction with a specifying modifier.'}])"
      ]
     },
     "execution_count": 11,
     "metadata": {},
     "output_type": "execute_result"
    }
   ],
   "source": [
    "new_squad[:2], new_squad[-2:]"
   ]
  },
  {
   "cell_type": "markdown",
   "id": "chicken-appearance",
   "metadata": {},
   "source": [
    "We can save our parsed data to file as a JSON like so:"
   ]
  },
  {
   "cell_type": "code",
   "execution_count": 12,
   "id": "accomplished-honduras",
   "metadata": {},
   "outputs": [],
   "source": [
    "with open(os.path.join(squad_dir, 'train.json'), 'w') as f:\n",
    "    json.dump(new_squad, f)"
   ]
  },
  {
   "cell_type": "code",
   "execution_count": null,
   "id": "0440cb2f-2e23-4767-aa23-4e2ac1aa2caa",
   "metadata": {},
   "outputs": [],
   "source": [
    "\n"
   ]
  }
 ],
 "metadata": {
  "kernelspec": {
   "display_name": "Python 3 (ipykernel)",
   "language": "python",
   "name": "python3"
  },
  "language_info": {
   "codemirror_mode": {
    "name": "ipython",
    "version": 3
   },
   "file_extension": ".py",
   "mimetype": "text/x-python",
   "name": "python",
   "nbconvert_exporter": "python",
   "pygments_lexer": "ipython3",
   "version": "3.9.7"
  }
 },
 "nbformat": 4,
 "nbformat_minor": 5
}
