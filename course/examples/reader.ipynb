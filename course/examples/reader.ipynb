{
 "cells": [
  {
   "cell_type": "markdown",
   "id": "naked-haiti",
   "metadata": {},
   "source": [
    "# Reader\n",
    "\n",
    "We've already explored the *reader* model in the first few sections of this chapter, where we loaded a pretrained model using the `transformers` library.\n",
    "\n",
    "Now, we'll do the same thing but via Haystack - which uses the same `transformers` library in the background (so we can use the same pretrained model names).\n",
    "\n",
    "To initialize our reader via Haystack all we need is:"
   ]
  },
  {
   "cell_type": "code",
   "execution_count": 1,
   "id": "thrown-hanging",
   "metadata": {},
   "outputs": [],
   "source": [
    "from haystack.nodes import FARMReader"
   ]
  },
  {
   "cell_type": "code",
   "execution_count": 2,
   "id": "2951b522-1fa8-49ac-a8fb-6569c5b155c9",
   "metadata": {},
   "outputs": [],
   "source": [
    "reader = FARMReader(model_name_or_path='deepset/bert-base-cased-squad2', use_gpu=True)"
   ]
  },
  {
   "cell_type": "markdown",
   "id": "rubber-israeli",
   "metadata": {},
   "source": [
    "Now we have our reader model initialized, let's load up our FAISS index and DPR just like before."
   ]
  },
  {
   "cell_type": "code",
   "execution_count": 3,
   "id": "advanced-outreach",
   "metadata": {},
   "outputs": [
    {
     "name": "stderr",
     "output_type": "stream",
     "text": [
      "The tokenizer class you load from this checkpoint is not the same type as the class this function is called from. It may result in unexpected tokenization. \n",
      "The tokenizer class you load from this checkpoint is 'DPRQuestionEncoderTokenizer'. \n",
      "The class this function is called from is 'DPRContextEncoderTokenizerFast'.\n"
     ]
    }
   ],
   "source": [
    "# from haystack.document_store.faiss import FAISSDocumentStore\n",
    "# from haystack.retriever.dense import DensePassageRetriever\n",
    "from haystack.document_stores.faiss import FAISSDocumentStore\n",
    "from haystack.nodes.retriever.dense import DensePassageRetriever\n",
    "\n",
    "path = '../../models/faiss'\n",
    "\n",
    "# load FAISS from file (the squad validation set index)\n",
    "# document_store = FAISSDocumentStore.load(f'{path}/squad_dev.faiss', f'sqlite:///{path}/squad_dev.db')\n",
    "# document_store = FAISSDocumentStore(index_path=f'{path}/squad_dev.faiss', f'sqlite:///{path}/squad_dev.db')\n",
    "document_store = FAISSDocumentStore.load(index_path=f'{path}/squad_dev.faiss', config_path=f'{path}/squad_dev.json')\n",
    "# initialize DPR model\n",
    "retriever = DensePassageRetriever(\n",
    "    document_store=document_store,\n",
    "    query_embedding_model='facebook/dpr-question_encoder-single-nq-base',\n",
    "    passage_embedding_model='facebook/dpr-ctx_encoder-single-nq-base',\n",
    "    use_gpu=True,\n",
    "    embed_title=True\n",
    ")"
   ]
  },
  {
   "cell_type": "markdown",
   "id": "sticky-habitat",
   "metadata": {},
   "source": [
    "Haystack comes with a very convenient `ExtractiveQAPipeline` class which allows us to pass our `reader` and `retriever` to build an easy-to-use *extractive* Q&A pipeline:"
   ]
  },
  {
   "cell_type": "code",
   "execution_count": 4,
   "id": "contained-richards",
   "metadata": {},
   "outputs": [],
   "source": [
    "# from haystack.pipeline import ExtractiveQAPipeline\n",
    "from haystack.pipelines import ExtractiveQAPipeline\n",
    "\n",
    "pipeline = ExtractiveQAPipeline(reader=reader, retriever=retriever)"
   ]
  },
  {
   "cell_type": "markdown",
   "id": "brown-brazil",
   "metadata": {},
   "source": [
    "We can ask questions using the `run` method, alongside the `query` parameter:"
   ]
  },
  {
   "cell_type": "code",
   "execution_count": 16,
   "id": "c76fbb79-99fb-4f45-b212-480d493c7b70",
   "metadata": {},
   "outputs": [
    {
     "name": "stderr",
     "output_type": "stream",
     "text": [
      "Inferencing Samples: 100%|██████████████████████████████████████████████████████████| 1/1 [00:00<00:00,  4.19 Batches/s]\n"
     ]
    },
    {
     "data": {
      "text/plain": [
       "[<Answer {'answer': 'complexity-theoretic theorems regularly assume some concrete choice of input encoding, one tries to keep the discussion abstract enough to be independent of the choice of encoding', 'type': 'extractive', 'score': 0.005286967847496271, 'context': ' complexity-theoretic theorems regularly assume some concrete choice of input encoding, one tries to keep the discussion abstract enough to be independent of the choice of encoding', 'offsets_in_document': [{'start': 27, 'end': 206}], 'offsets_in_context': [{'start': 1, 'end': 180}], 'document_id': 'fdafa6182e072da1f6005c49f858c175', 'meta': {'vector_id': '1195'}}>,\n",
       " <Answer {'answer': 'integer factorization problem.', 'type': 'extractive', 'score': 0.004754381254315376, 'context': \"f a decision problem, that is, it isn't just yes or no. Notable examples include the traveling salesman problem and the integer factorization problem.\", 'offsets_in_document': [{'start': 281, 'end': 311}], 'offsets_in_context': [{'start': 120, 'end': 150}], 'document_id': 'f57aa46bcfe6869b935ac35f3e57a013', 'meta': {'vector_id': '1146'}}>,\n",
       " <Answer {'answer': 'The best, worst and average case complexity', 'type': 'extractive', 'score': 0.0027914042584598064, 'context': 'The best, worst and average case complexity refer to three different ways of measuring the time complexity (or any other complexity measure) of differ', 'offsets_in_document': [{'start': 0, 'end': 43}], 'offsets_in_context': [{'start': 0, 'end': 43}], 'document_id': '3454f42d3e6dd12ff5bc8012ac299052', 'meta': {'vector_id': '182'}}>]"
      ]
     },
     "execution_count": 16,
     "metadata": {},
     "output_type": "execute_result"
    }
   ],
   "source": [
    "pipeline.run(query='What is the best statistical modeling approach?', params={\"Retriever\": {\"top_k\": 3}})['answers']"
   ]
  },
  {
   "cell_type": "code",
   "execution_count": 15,
   "id": "australian-australian",
   "metadata": {},
   "outputs": [
    {
     "name": "stderr",
     "output_type": "stream",
     "text": [
      "Inferencing Samples: 100%|██████████████████████████████████████████████████████████| 1/1 [00:00<00:00,  3.88 Batches/s]\n"
     ]
    },
    {
     "data": {
      "text/plain": [
       "[<Answer {'answer': 'Fermat primality test', 'type': 'extractive', 'score': 0.11868560314178467, 'context': \"A particularly simple example of a probabilistic test is the Fermat primality test, which relies on the fact (Fermat's little theorem) that np≡n (mod \", 'offsets_in_document': [{'start': 61, 'end': 82}], 'offsets_in_context': [{'start': 61, 'end': 82}], 'document_id': '70355cf08ce24ae883dce1eceb422e54', 'meta': {'vector_id': '493'}}>,\n",
       " <Answer {'answer': 'probabilistic', 'type': 'extractive', 'score': 0.027851182967424393, 'context': 'ty tests for general numbers n can be divided into two main classes, probabilistic (or \"Monte Carlo\") and deterministic algorithms. Deterministic algo', 'offsets_in_document': [{'start': 83, 'end': 96}], 'offsets_in_context': [{'start': 69, 'end': 82}], 'document_id': '4b80ccd6b10877e13ce75ebcf6945a6c', 'meta': {'vector_id': '298'}}>,\n",
       " <Answer {'answer': 'The best case occurs when each pivoting divides the list in half, also needing O(n log n) time.', 'type': 'extractive', 'score': 0.010013073682785034, 'context': 'ely, the average time taken for sorting is O(n log n). The best case occurs when each pivoting divides the list in half, also needing O(n log n) time.', 'offsets_in_document': [{'start': 404, 'end': 499}], 'offsets_in_context': [{'start': 55, 'end': 150}], 'document_id': 'a925077c420801aa404aca8a8733ef8e', 'meta': {'vector_id': '773'}}>]"
      ]
     },
     "execution_count": 15,
     "metadata": {},
     "output_type": "execute_result"
    }
   ],
   "source": [
    "pipeline.run(query='What is the best statistical modeling approach?', params={\"Reader\": {\"top_k\": 3}})['answers']"
   ]
  },
  {
   "cell_type": "markdown",
   "id": "recent-breathing",
   "metadata": {},
   "source": [
    "Here we're returning a lot of different answers, which is not really necessary. We can limit the number of answers we return using two parameters, `top_k_retriever` and `top_k_reader`. Both of these limit the number of items being returned from the `retriever` and `reader` models respectively."
   ]
  },
  {
   "cell_type": "code",
   "execution_count": 14,
   "id": "toxic-contrary",
   "metadata": {},
   "outputs": [
    {
     "name": "stderr",
     "output_type": "stream",
     "text": [
      "Inferencing Samples: 100%|██████████████████████████████████████████████████████████| 1/1 [00:00<00:00,  4.66 Batches/s]\n"
     ]
    },
    {
     "data": {
      "text/plain": [
       "[<Answer {'answer': 'analysis of algorithms and computability theory', 'type': 'extractive', 'score': 0.8070324659347534, 'context': ' related fields in theoretical computer science are analysis of algorithms and computability theory. A key distinction between analysis of algorithms ', 'offsets_in_document': [{'start': 59, 'end': 106}], 'offsets_in_context': [{'start': 52, 'end': 99}], 'document_id': '42b3e25793765b085da634955c175f98', 'meta': {'vector_id': '254'}}>,\n",
       " <Answer {'answer': 'Science of the Physical Universe', 'type': 'extractive', 'score': 0.3831784725189209, 'context': 'l Reasoning, Ethical Reasoning, Science of Living Systems, Science of the Physical Universe, Societies of the World, and United States in the World. H', 'offsets_in_document': [{'start': 556, 'end': 588}], 'offsets_in_context': [{'start': 59, 'end': 91}], 'document_id': 'fbccb09bae381f66ed2ec74583b5dc09', 'meta': {'vector_id': '1182'}}>,\n",
       " <Answer {'answer': 'classifying computational problems according to their inherent difficulty', 'type': 'extractive', 'score': 0.00037992990110069513, 'context': 'tical computer science that focuses on classifying computational problems according to their inherent difficulty, and relating those classes to each o', 'offsets_in_document': [{'start': 121, 'end': 194}], 'offsets_in_context': [{'start': 39, 'end': 112}], 'document_id': 'ef80756dc751af204203f664fa56b1d4', 'meta': {'vector_id': '1120'}}>]"
      ]
     },
     "execution_count": 14,
     "metadata": {},
     "output_type": "execute_result"
    }
   ],
   "source": [
    "# Broken in latest version of haystack, couldn't find fix\n",
    "# pipeline.run(query='What does theoretical computer science cover?',\n",
    "#              top_k_retriever=3)\n",
    "\n",
    "pipeline.run(query='What does theoretical computer science cover?', params={\"Retriever\": {\"top_k\": 3}})['answers']"
   ]
  },
  {
   "cell_type": "markdown",
   "id": "macro-philadelphia",
   "metadata": {},
   "source": [
    "And the `reader`:"
   ]
  },
  {
   "cell_type": "code",
   "execution_count": 13,
   "id": "logical-barbados",
   "metadata": {},
   "outputs": [
    {
     "name": "stderr",
     "output_type": "stream",
     "text": [
      "Inferencing Samples: 100%|██████████████████████████████████████████████████████████| 1/1 [00:00<00:00,  4.02 Batches/s]\n"
     ]
    },
    {
     "data": {
      "text/plain": [
       "[<Answer {'answer': 'analysis of algorithms and computability theory', 'type': 'extractive', 'score': 0.8070326447486877, 'context': ' related fields in theoretical computer science are analysis of algorithms and computability theory. A key distinction between analysis of algorithms ', 'offsets_in_document': [{'start': 59, 'end': 106}], 'offsets_in_context': [{'start': 52, 'end': 99}], 'document_id': '42b3e25793765b085da634955c175f98', 'meta': {'vector_id': '254'}}>,\n",
       " <Answer {'answer': 'algorithmic problems', 'type': 'extractive', 'score': 0.42935144901275635, 'context': 'fore the actual research explicitly devoted to the complexity of algorithmic problems started off, numerous foundations were laid out by various resea', 'offsets_in_document': [{'start': 67, 'end': 87}], 'offsets_in_context': [{'start': 65, 'end': 85}], 'document_id': '27a839b0a3dba79e809de956f6832be6', 'meta': {'vector_id': '114'}}>,\n",
       " <Answer {'answer': 'Science of the Physical Universe', 'type': 'extractive', 'score': 0.3831784725189209, 'context': 'l Reasoning, Ethical Reasoning, Science of Living Systems, Science of the Physical Universe, Societies of the World, and United States in the World. H', 'offsets_in_document': [{'start': 556, 'end': 588}], 'offsets_in_context': [{'start': 59, 'end': 91}], 'document_id': 'fbccb09bae381f66ed2ec74583b5dc09', 'meta': {'vector_id': '1182'}}>]"
      ]
     },
     "execution_count": 13,
     "metadata": {},
     "output_type": "execute_result"
    }
   ],
   "source": [
    "# Broken in latest version of haystack, couldn't find fix\n",
    "# pipeline.run(query='What does theoretical computer science cover?',\n",
    "#              top_k_reader=3)\n",
    "pipeline.run(query='What does theoretical computer science cover?', params={\"Reader\": {\"top_k\": 3}})['answers']"
   ]
  },
  {
   "cell_type": "code",
   "execution_count": null,
   "id": "3c6ab233-381d-42db-bd5a-d8960dd2cc03",
   "metadata": {},
   "outputs": [],
   "source": []
  },
  {
   "cell_type": "code",
   "execution_count": 19,
   "id": "b6efc1b5-ca69-41a6-8bda-270f447068a4",
   "metadata": {},
   "outputs": [],
   "source": [
    "from haystack.document_stores.elasticsearch import ElasticsearchDocumentStore\n",
    "\n",
    "def reading(file_name = 'credentials.txt'):\n",
    "    s = open(file_name, 'r').read()\n",
    "    dict = eval(s)\n",
    "    return(dict)\n",
    "\n",
    "credential_dict = reading()\n",
    "\n",
    "document_store = ElasticsearchDocumentStore(\n",
    "    host='localhost', \n",
    "    scheme='https', \n",
    "    username=credential_dict['username'], \n",
    "    password=credential_dict['pwd'], \n",
    "    ca_certs=credential_dict['ca_certs'], index='squad_docs')"
   ]
  },
  {
   "cell_type": "code",
   "execution_count": 20,
   "id": "7844ded6-f4ed-4c5e-85b8-b5d95b897790",
   "metadata": {},
   "outputs": [
    {
     "name": "stderr",
     "output_type": "stream",
     "text": [
      "The tokenizer class you load from this checkpoint is not the same type as the class this function is called from. It may result in unexpected tokenization. \n",
      "The tokenizer class you load from this checkpoint is 'DPRQuestionEncoderTokenizer'. \n",
      "The class this function is called from is 'DPRContextEncoderTokenizerFast'.\n"
     ]
    }
   ],
   "source": [
    "# initialize DPR model\n",
    "retriever = DensePassageRetriever(\n",
    "    document_store=document_store,\n",
    "    query_embedding_model='facebook/dpr-question_encoder-single-nq-base',\n",
    "    passage_embedding_model='facebook/dpr-ctx_encoder-single-nq-base',\n",
    "    use_gpu=True,\n",
    "    embed_title=True\n",
    ")"
   ]
  },
  {
   "cell_type": "code",
   "execution_count": 21,
   "id": "64260347-8725-431e-bb3b-dc896453b8d9",
   "metadata": {},
   "outputs": [
    {
     "data": {
      "application/vnd.jupyter.widget-view+json": {
       "model_id": "bd82a9a8c64b41efb1e08b054f0178e2",
       "version_major": 2,
       "version_minor": 0
      },
      "text/plain": [
       "Updating embeddings:   0%|          | 0/1204 [00:00<?, ? Docs/s]"
      ]
     },
     "metadata": {},
     "output_type": "display_data"
    },
    {
     "data": {
      "application/vnd.jupyter.widget-view+json": {
       "model_id": "",
       "version_major": 2,
       "version_minor": 0
      },
      "text/plain": [
       "Create embeddings:   0%|          | 0/1216 [00:00<?, ? Docs/s]"
      ]
     },
     "metadata": {},
     "output_type": "display_data"
    }
   ],
   "source": [
    "document_store.update_embeddings(retriever=retriever)"
   ]
  },
  {
   "cell_type": "code",
   "execution_count": 22,
   "id": "46f88162-2f61-45cf-8c08-a0b1c47f3d0c",
   "metadata": {},
   "outputs": [],
   "source": [
    "pipeline = ExtractiveQAPipeline(reader=reader, retriever=retriever)"
   ]
  },
  {
   "cell_type": "code",
   "execution_count": 23,
   "id": "337cce73-4875-4397-8400-f8476b35f1a9",
   "metadata": {},
   "outputs": [
    {
     "name": "stderr",
     "output_type": "stream",
     "text": [
      "Inferencing Samples: 100%|██████████████████████████████████████████████████████████| 1/1 [00:00<00:00,  3.60 Batches/s]\n"
     ]
    },
    {
     "data": {
      "text/plain": [
       "[<Answer {'answer': '1653 the poet Zygmunt Laukowski', 'type': 'extractive', 'score': 0.03928980231285095, 'context': ' use of a crude form of a sea monster with a female upper body and holding a sword in its claws. In 1653 the poet Zygmunt Laukowski asks the question:', 'offsets_in_document': [{'start': 521, 'end': 552}], 'offsets_in_context': [{'start': 100, 'end': 131}], 'document_id': 'bf117db136b152b4b30ad6fb942b6aae', 'meta': {}}>,\n",
       " <Answer {'answer': 'juveniles are capable of reproduction before reaching the adult size and shape.', 'type': 'extractive', 'score': 0.0005937825189903378, 'context': 'ult form. In at least some species, juveniles are capable of reproduction before reaching the adult size and shape. The combination of hermaphroditism', 'offsets_in_document': [{'start': 912, 'end': 991}], 'offsets_in_context': [{'start': 36, 'end': 115}], 'document_id': 'e88147b5aea54c44d788c726b5555167', 'meta': {}}>,\n",
       " <Answer {'answer': '2009', 'type': 'extractive', 'score': 0.0004925424000248313, 'context': 'itizens and the rest of the nation had slowed its recovery from the 2008-2009 recession and made it more prone to boom-and-bust cycles. To partially r', 'offsets_in_document': [{'start': 203, 'end': 207}], 'offsets_in_context': [{'start': 73, 'end': 77}], 'document_id': 'a4da63f29951562a10abaf672cf15ee9', 'meta': {}}>,\n",
       " <Answer {'answer': 'juveniles behave more like true larvae, as they live among the plankton and thus occupy a different ecological niche from their parents and attain the adult form by a more radical metamorphosis, after dropping to the sea-floor', 'type': 'extractive', 'score': 0.0004680955607909709, 'context': 'juveniles behave more like true larvae, as they live among the plankton and thus occupy a different ecological niche from their parents and attain the adult form by a more radical metamorphosis, after dropping to the sea-floor', 'offsets_in_document': [{'start': 409, 'end': 635}], 'offsets_in_context': [{'start': 0, 'end': 226}], 'document_id': '6c1333d1e85e5ad5617f165b37f11bd0', 'meta': {}}>,\n",
       " <Answer {'answer': 'Denmark', 'type': 'extractive', 'score': 0.000332398631144315, 'context': 'ths of the oceans and seas. One of them decided to stay on the coast of Denmark and can be seen sitting at the entrance to the port of Copenhagen. The', 'offsets_in_document': [{'start': 246, 'end': 253}], 'offsets_in_context': [{'start': 72, 'end': 79}], 'document_id': '2417adb7d0d109e5b2d47e459bbb0ac0', 'meta': {}}>,\n",
       " <Answer {'answer': '2008', 'type': 'extractive', 'score': 0.00032431696308776736, 'context': ' schools. Over 10% of Swedish pupils were enrolled in private schools in 2008. Sweden is internationally known for this innovative school voucher mode', 'offsets_in_document': [{'start': 188, 'end': 192}], 'offsets_in_context': [{'start': 73, 'end': 77}], 'document_id': '14191c78f5a19ed264cc106a0c6ad298', 'meta': {}}>,\n",
       " <Answer {'answer': 'juveniles are capable of reproduction before reaching the adult size and shape', 'type': 'extractive', 'score': 0.0002756163594312966, 'context': 'ult form. In at least some species, juveniles are capable of reproduction before reaching the adult size and shape. The combination of hermaphroditism', 'offsets_in_document': [{'start': 912, 'end': 990}], 'offsets_in_context': [{'start': 36, 'end': 114}], 'document_id': 'e88147b5aea54c44d788c726b5555167', 'meta': {}}>,\n",
       " <Answer {'answer': 'poorer countries, where life expectancy increases rapidly as per capita income increases, but in recent decades it has slowed down among middle income countries and plateaued among the richest thirty or so countries in the world. Americans live no longer on average (about 77 years in 2004', 'type': 'extractive', 'score': 0.00010812793334480375, 'context': ' poorer countries, where life expectancy increases rapidly as per capita income increases, but in recent decades it has slowed down among middle income countries and plateaued among the richest thirty or so countries in the world. Americans live no longer on average (about 77 years in 2004', 'offsets_in_document': [{'start': 222, 'end': 511}], 'offsets_in_context': [{'start': 1, 'end': 290}], 'document_id': '63d515682851c0553c3467d3e4d29a85', 'meta': {}}>,\n",
       " <Answer {'answer': 'carry', 'type': 'extractive', 'score': 0.0001058998896041885, 'context': \"fɔːr/ or /ˈtiːnəfɔːr/; from the Greek κτείς kteis 'comb' and φέρω pherō 'carry'; commonly known as comb jellies) is a phylum of animals that live in m\", 'offsets_in_document': [{'start': 125, 'end': 130}], 'offsets_in_context': [{'start': 73, 'end': 78}], 'document_id': 'afcd3cdccfbc4099e6a67d098538176d', 'meta': {}}>,\n",
       " <Answer {'answer': 'Cestids can swim by undulating their bodies as well as by the beating of their comb-rows', 'type': 'extractive', 'score': 8.686516957823187e-05, 'context': 'of the wing-like body surface. Cestids can swim by undulating their bodies as well as by the beating of their comb-rows. There are two known species, ', 'offsets_in_document': [{'start': 329, 'end': 417}], 'offsets_in_context': [{'start': 31, 'end': 119}], 'document_id': '756da4258673f7287db6430af881159a', 'meta': {}}>]"
      ]
     },
     "execution_count": 23,
     "metadata": {},
     "output_type": "execute_result"
    }
   ],
   "source": [
    "pipeline.run(query='Will there ever be born a boy who can swim as fast as a shark?')['answers']"
   ]
  },
  {
   "cell_type": "code",
   "execution_count": null,
   "id": "ea48add9-c30a-441f-a8c2-6edd53827b51",
   "metadata": {},
   "outputs": [],
   "source": []
  }
 ],
 "metadata": {
  "kernelspec": {
   "display_name": "Python 3 (ipykernel)",
   "language": "python",
   "name": "python3"
  },
  "language_info": {
   "codemirror_mode": {
    "name": "ipython",
    "version": 3
   },
   "file_extension": ".py",
   "mimetype": "text/x-python",
   "name": "python",
   "nbconvert_exporter": "python",
   "pygments_lexer": "ipython3",
   "version": "3.9.7"
  }
 },
 "nbformat": 4,
 "nbformat_minor": 5
}
