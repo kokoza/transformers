{
 "cells": [
  {
   "cell_type": "markdown",
   "id": "naked-haiti",
   "metadata": {},
   "source": [
    "# Reader\n",
    "\n",
    "We've already explored the *reader* model in the first few sections of this chapter, where we loaded a pretrained model using the `transformers` library.\n",
    "\n",
    "Now, we'll do the same thing but via Haystack - which uses the same `transformers` library in the background (so we can use the same pretrained model names).\n",
    "\n",
    "To initialize our reader via Haystack all we need is:"
   ]
  },
  {
   "cell_type": "code",
   "execution_count": 1,
   "id": "thrown-hanging",
   "metadata": {},
   "outputs": [
    {
     "name": "stderr",
     "output_type": "stream",
     "text": [
      "2022-11-14 21:17:59.860964: I tensorflow/core/platform/cpu_feature_guard.cc:193] This TensorFlow binary is optimized with oneAPI Deep Neural Network Library (oneDNN) to use the following CPU instructions in performance-critical operations:  AVX2 FMA\n",
      "To enable them in other operations, rebuild TensorFlow with the appropriate compiler flags.\n",
      "2022-11-14 21:17:59.976428: E tensorflow/stream_executor/cuda/cuda_blas.cc:2981] Unable to register cuBLAS factory: Attempting to register factory for plugin cuBLAS when one has already been registered\n",
      "2022-11-14 21:18:00.290027: W tensorflow/stream_executor/platform/default/dso_loader.cc:64] Could not load dynamic library 'libnvinfer.so.7'; dlerror: libnvinfer.so.7: cannot open shared object file: No such file or directory\n",
      "2022-11-14 21:18:00.290099: W tensorflow/stream_executor/platform/default/dso_loader.cc:64] Could not load dynamic library 'libnvinfer_plugin.so.7'; dlerror: libnvinfer_plugin.so.7: cannot open shared object file: No such file or directory\n",
      "2022-11-14 21:18:00.290104: W tensorflow/compiler/tf2tensorrt/utils/py_utils.cc:38] TF-TRT Warning: Cannot dlopen some TensorRT libraries. If you would like to use Nvidia GPU with TensorRT, please make sure the missing libraries mentioned above are installed properly.\n"
     ]
    }
   ],
   "source": [
    "from haystack.nodes import FARMReader"
   ]
  },
  {
   "cell_type": "code",
   "execution_count": 2,
   "id": "2951b522-1fa8-49ac-a8fb-6569c5b155c9",
   "metadata": {},
   "outputs": [],
   "source": [
    "reader = FARMReader(model_name_or_path='deepset/bert-base-cased-squad2', use_gpu=True)"
   ]
  },
  {
   "cell_type": "markdown",
   "id": "rubber-israeli",
   "metadata": {},
   "source": [
    "Now we have our reader model initialized, let's load up our FAISS index and DPR just like before."
   ]
  },
  {
   "cell_type": "code",
   "execution_count": 3,
   "id": "advanced-outreach",
   "metadata": {},
   "outputs": [
    {
     "name": "stderr",
     "output_type": "stream",
     "text": [
      "The tokenizer class you load from this checkpoint is not the same type as the class this function is called from. It may result in unexpected tokenization. \n",
      "The tokenizer class you load from this checkpoint is 'DPRQuestionEncoderTokenizer'. \n",
      "The class this function is called from is 'DPRContextEncoderTokenizerFast'.\n"
     ]
    }
   ],
   "source": [
    "# from haystack.document_store.faiss import FAISSDocumentStore\n",
    "# from haystack.retriever.dense import DensePassageRetriever\n",
    "from haystack.document_stores.faiss import FAISSDocumentStore\n",
    "from haystack.nodes.retriever.dense import DensePassageRetriever\n",
    "\n",
    "path = '../../models/faiss'\n",
    "\n",
    "# load FAISS from file (the squad validation set index)\n",
    "# document_store = FAISSDocumentStore.load(f'{path}/squad_dev.faiss', f'sqlite:///{path}/squad_dev.db')\n",
    "# document_store = FAISSDocumentStore(index_path=f'{path}/squad_dev.faiss', f'sqlite:///{path}/squad_dev.db')\n",
    "document_store = FAISSDocumentStore.load(index_path=f'{path}/squad_dev.faiss', config_path=f'{path}/squad_dev.json')\n",
    "# initialize DPR model\n",
    "retriever = DensePassageRetriever(\n",
    "    document_store=document_store,\n",
    "    query_embedding_model='facebook/dpr-question_encoder-single-nq-base',\n",
    "    passage_embedding_model='facebook/dpr-ctx_encoder-single-nq-base',\n",
    "    use_gpu=True,\n",
    "    embed_title=True\n",
    ")"
   ]
  },
  {
   "cell_type": "markdown",
   "id": "sticky-habitat",
   "metadata": {},
   "source": [
    "Haystack comes with a very convenient `ExtractiveQAPipeline` class which allows us to pass our `reader` and `retriever` to build an easy-to-use *extractive* Q&A pipeline:"
   ]
  },
  {
   "cell_type": "code",
   "execution_count": 6,
   "id": "contained-richards",
   "metadata": {},
   "outputs": [],
   "source": [
    "# from haystack.pipeline import ExtractiveQAPipeline\n",
    "from haystack.pipelines import ExtractiveQAPipeline\n",
    "\n",
    "pipeline = ExtractiveQAPipeline(reader=reader, retriever=retriever)"
   ]
  },
  {
   "cell_type": "markdown",
   "id": "brown-brazil",
   "metadata": {},
   "source": [
    "We can ask questions using the `run` method, alongside the `query` parameter:"
   ]
  },
  {
   "cell_type": "code",
   "execution_count": 18,
   "id": "australian-australian",
   "metadata": {},
   "outputs": [
    {
     "name": "stderr",
     "output_type": "stream",
     "text": [
      "Inferencing Samples: 100%|██████████████████████████████████████████████████████████| 1/1 [00:00<00:00,  4.20 Batches/s]\n"
     ]
    },
    {
     "data": {
      "text/plain": [
       "[<Answer {'answer': '1653 the poet Zygmunt Laukowski', 'type': 'extractive', 'score': 0.03928980231285095, 'context': ' use of a crude form of a sea monster with a female upper body and holding a sword in its claws. In 1653 the poet Zygmunt Laukowski asks the question:', 'offsets_in_document': [{'start': 521, 'end': 552}], 'offsets_in_context': [{'start': 100, 'end': 131}], 'document_id': 'bf117db136b152b4b30ad6fb942b6aae', 'meta': {'vector_id': '879'}}>,\n",
       " <Answer {'answer': 'juveniles are capable of reproduction before reaching the adult size and shape.', 'type': 'extractive', 'score': 0.0005937825189903378, 'context': 'ult form. In at least some species, juveniles are capable of reproduction before reaching the adult size and shape. The combination of hermaphroditism', 'offsets_in_document': [{'start': 912, 'end': 991}], 'offsets_in_context': [{'start': 36, 'end': 115}], 'document_id': 'e88147b5aea54c44d788c726b5555167', 'meta': {'vector_id': '1083'}}>,\n",
       " <Answer {'answer': '2009', 'type': 'extractive', 'score': 0.0004925424000248313, 'context': 'itizens and the rest of the nation had slowed its recovery from the 2008-2009 recession and made it more prone to boom-and-bust cycles. To partially r', 'offsets_in_document': [{'start': 203, 'end': 207}], 'offsets_in_context': [{'start': 73, 'end': 77}], 'document_id': 'a4da63f29951562a10abaf672cf15ee9', 'meta': {'vector_id': '744'}}>,\n",
       " <Answer {'answer': 'juveniles behave more like true larvae, as they live among the plankton and thus occupy a different ecological niche from their parents and attain the adult form by a more radical metamorphosis, after dropping to the sea-floor', 'type': 'extractive', 'score': 0.0004680955607909709, 'context': 'juveniles behave more like true larvae, as they live among the plankton and thus occupy a different ecological niche from their parents and attain the adult form by a more radical metamorphosis, after dropping to the sea-floor', 'offsets_in_document': [{'start': 409, 'end': 635}], 'offsets_in_context': [{'start': 0, 'end': 226}], 'document_id': '6c1333d1e85e5ad5617f165b37f11bd0', 'meta': {'vector_id': '469'}}>,\n",
       " <Answer {'answer': 'Denmark', 'type': 'extractive', 'score': 0.000332398631144315, 'context': 'ths of the oceans and seas. One of them decided to stay on the coast of Denmark and can be seen sitting at the entrance to the port of Copenhagen. The', 'offsets_in_document': [{'start': 246, 'end': 253}], 'offsets_in_context': [{'start': 72, 'end': 79}], 'document_id': '2417adb7d0d109e5b2d47e459bbb0ac0', 'meta': {'vector_id': '92'}}>,\n",
       " <Answer {'answer': '2008', 'type': 'extractive', 'score': 0.00032431696308776736, 'context': ' schools. Over 10% of Swedish pupils were enrolled in private schools in 2008. Sweden is internationally known for this innovative school voucher mode', 'offsets_in_document': [{'start': 188, 'end': 192}], 'offsets_in_context': [{'start': 73, 'end': 77}], 'document_id': '14191c78f5a19ed264cc106a0c6ad298', 'meta': {'vector_id': '15'}}>,\n",
       " <Answer {'answer': 'juveniles are capable of reproduction before reaching the adult size and shape', 'type': 'extractive', 'score': 0.0002756163594312966, 'context': 'ult form. In at least some species, juveniles are capable of reproduction before reaching the adult size and shape. The combination of hermaphroditism', 'offsets_in_document': [{'start': 912, 'end': 990}], 'offsets_in_context': [{'start': 36, 'end': 114}], 'document_id': 'e88147b5aea54c44d788c726b5555167', 'meta': {'vector_id': '1083'}}>,\n",
       " <Answer {'answer': 'poorer countries, where life expectancy increases rapidly as per capita income increases, but in recent decades it has slowed down among middle income countries and plateaued among the richest thirty or so countries in the world. Americans live no longer on average (about 77 years in 2004', 'type': 'extractive', 'score': 0.00010812793334480375, 'context': ' poorer countries, where life expectancy increases rapidly as per capita income increases, but in recent decades it has slowed down among middle income countries and plateaued among the richest thirty or so countries in the world. Americans live no longer on average (about 77 years in 2004', 'offsets_in_document': [{'start': 222, 'end': 511}], 'offsets_in_context': [{'start': 1, 'end': 290}], 'document_id': '63d515682851c0553c3467d3e4d29a85', 'meta': {'vector_id': '423'}}>,\n",
       " <Answer {'answer': 'carry', 'type': 'extractive', 'score': 0.0001058998896041885, 'context': \"fɔːr/ or /ˈtiːnəfɔːr/; from the Greek κτείς kteis 'comb' and φέρω pherō 'carry'; commonly known as comb jellies) is a phylum of animals that live in m\", 'offsets_in_document': [{'start': 125, 'end': 130}], 'offsets_in_context': [{'start': 73, 'end': 78}], 'document_id': 'afcd3cdccfbc4099e6a67d098538176d', 'meta': {'vector_id': '802'}}>,\n",
       " <Answer {'answer': 'Cestids can swim by undulating their bodies as well as by the beating of their comb-rows', 'type': 'extractive', 'score': 8.686516957823187e-05, 'context': 'of the wing-like body surface. Cestids can swim by undulating their bodies as well as by the beating of their comb-rows. There are two known species, ', 'offsets_in_document': [{'start': 329, 'end': 417}], 'offsets_in_context': [{'start': 31, 'end': 119}], 'document_id': '756da4258673f7287db6430af881159a', 'meta': {'vector_id': '518'}}>]"
      ]
     },
     "execution_count": 18,
     "metadata": {},
     "output_type": "execute_result"
    }
   ],
   "source": [
    "pipeline.run(query='Will there ever be born a boy who can swim as fast as a shark?')['answers']"
   ]
  },
  {
   "cell_type": "markdown",
   "id": "recent-breathing",
   "metadata": {},
   "source": [
    "Here we're returning a lot of different answers, which is not really necessary. We can limit the number of answers we return using two parameters, `top_k_retriever` and `top_k_reader`. Both of these limit the number of items being returned from the `retriever` and `reader` models respectively."
   ]
  },
  {
   "cell_type": "code",
   "execution_count": null,
   "id": "toxic-contrary",
   "metadata": {},
   "outputs": [
    {
     "ename": "TypeError",
     "evalue": "run() got an unexpected keyword argument 'top_k_retriever'",
     "output_type": "error",
     "traceback": [
      "\u001b[0;31m---------------------------------------------------------------------------\u001b[0m",
      "\u001b[0;31mTypeError\u001b[0m                                 Traceback (most recent call last)",
      "\u001b[0;32m/tmp/ipykernel_355/3802719017.py\u001b[0m in \u001b[0;36m<module>\u001b[0;34m\u001b[0m\n\u001b[0;32m----> 1\u001b[0;31m \u001b[0mpipeline\u001b[0m\u001b[0;34m.\u001b[0m\u001b[0mrun\u001b[0m\u001b[0;34m(\u001b[0m\u001b[0mquery\u001b[0m\u001b[0;34m=\u001b[0m\u001b[0;34m'What does theoretical computer science cover?'\u001b[0m\u001b[0;34m,\u001b[0m \u001b[0mtop_k_retriever\u001b[0m\u001b[0;34m=\u001b[0m\u001b[0;36m10\u001b[0m\u001b[0;34m,\u001b[0m \u001b[0mtop_k_reader\u001b[0m\u001b[0;34m=\u001b[0m\u001b[0;36m5\u001b[0m\u001b[0;34m)\u001b[0m\u001b[0;34m\u001b[0m\u001b[0;34m\u001b[0m\u001b[0m\n\u001b[0m",
      "\u001b[0;31mTypeError\u001b[0m: run() got an unexpected keyword argument 'top_k_retriever'"
     ]
    }
   ],
   "source": [
    "# Broken in latest version of haystack, couldn't find fix\n",
    "# pipeline.run(query='What does theoretical computer science cover?',\n",
    "#              top_k_retriever=3)"
   ]
  },
  {
   "cell_type": "markdown",
   "id": "macro-philadelphia",
   "metadata": {},
   "source": [
    "And the `reader`:"
   ]
  },
  {
   "cell_type": "code",
   "execution_count": 13,
   "id": "logical-barbados",
   "metadata": {},
   "outputs": [
    {
     "ename": "TypeError",
     "evalue": "run() got an unexpected keyword argument 'top_k_reader'",
     "output_type": "error",
     "traceback": [
      "\u001b[0;31m---------------------------------------------------------------------------\u001b[0m",
      "\u001b[0;31mTypeError\u001b[0m                                 Traceback (most recent call last)",
      "\u001b[0;32m/tmp/ipykernel_355/2618327479.py\u001b[0m in \u001b[0;36m<module>\u001b[0;34m\u001b[0m\n\u001b[0;32m----> 1\u001b[0;31m pipeline.run(query='What does theoretical computer science cover?',\n\u001b[0m\u001b[1;32m      2\u001b[0m              top_k_reader=3)\n",
      "\u001b[0;31mTypeError\u001b[0m: run() got an unexpected keyword argument 'top_k_reader'"
     ]
    }
   ],
   "source": [
    "# Broken in latest version of haystack, couldn't find fix\n",
    "# pipeline.run(query='What does theoretical computer science cover?',\n",
    "#              top_k_reader=3)"
   ]
  },
  {
   "cell_type": "code",
   "execution_count": null,
   "id": "3c6ab233-381d-42db-bd5a-d8960dd2cc03",
   "metadata": {},
   "outputs": [],
   "source": []
  },
  {
   "cell_type": "code",
   "execution_count": 19,
   "id": "b6efc1b5-ca69-41a6-8bda-270f447068a4",
   "metadata": {},
   "outputs": [],
   "source": [
    "from haystack.document_stores.elasticsearch import ElasticsearchDocumentStore\n",
    "\n",
    "def reading(file_name = 'credentials.txt'):\n",
    "    s = open(file_name, 'r').read()\n",
    "    dict = eval(s)\n",
    "    return(dict)\n",
    "\n",
    "credential_dict = reading()\n",
    "\n",
    "document_store = ElasticsearchDocumentStore(\n",
    "    host='localhost', \n",
    "    scheme='https', \n",
    "    username=credential_dict['username'], \n",
    "    password=credential_dict['pwd'], \n",
    "    ca_certs=credential_dict['ca_certs'], index='squad_docs')"
   ]
  },
  {
   "cell_type": "code",
   "execution_count": 20,
   "id": "7844ded6-f4ed-4c5e-85b8-b5d95b897790",
   "metadata": {},
   "outputs": [
    {
     "name": "stderr",
     "output_type": "stream",
     "text": [
      "The tokenizer class you load from this checkpoint is not the same type as the class this function is called from. It may result in unexpected tokenization. \n",
      "The tokenizer class you load from this checkpoint is 'DPRQuestionEncoderTokenizer'. \n",
      "The class this function is called from is 'DPRContextEncoderTokenizerFast'.\n"
     ]
    }
   ],
   "source": [
    "# initialize DPR model\n",
    "retriever = DensePassageRetriever(\n",
    "    document_store=document_store,\n",
    "    query_embedding_model='facebook/dpr-question_encoder-single-nq-base',\n",
    "    passage_embedding_model='facebook/dpr-ctx_encoder-single-nq-base',\n",
    "    use_gpu=True,\n",
    "    embed_title=True\n",
    ")"
   ]
  },
  {
   "cell_type": "code",
   "execution_count": 21,
   "id": "64260347-8725-431e-bb3b-dc896453b8d9",
   "metadata": {},
   "outputs": [
    {
     "data": {
      "application/vnd.jupyter.widget-view+json": {
       "model_id": "bd82a9a8c64b41efb1e08b054f0178e2",
       "version_major": 2,
       "version_minor": 0
      },
      "text/plain": [
       "Updating embeddings:   0%|          | 0/1204 [00:00<?, ? Docs/s]"
      ]
     },
     "metadata": {},
     "output_type": "display_data"
    },
    {
     "data": {
      "application/vnd.jupyter.widget-view+json": {
       "model_id": "",
       "version_major": 2,
       "version_minor": 0
      },
      "text/plain": [
       "Create embeddings:   0%|          | 0/1216 [00:00<?, ? Docs/s]"
      ]
     },
     "metadata": {},
     "output_type": "display_data"
    }
   ],
   "source": [
    "document_store.update_embeddings(retriever=retriever)"
   ]
  },
  {
   "cell_type": "code",
   "execution_count": 22,
   "id": "46f88162-2f61-45cf-8c08-a0b1c47f3d0c",
   "metadata": {},
   "outputs": [],
   "source": [
    "pipeline = ExtractiveQAPipeline(reader=reader, retriever=retriever)"
   ]
  },
  {
   "cell_type": "code",
   "execution_count": 23,
   "id": "337cce73-4875-4397-8400-f8476b35f1a9",
   "metadata": {},
   "outputs": [
    {
     "name": "stderr",
     "output_type": "stream",
     "text": [
      "Inferencing Samples: 100%|██████████████████████████████████████████████████████████| 1/1 [00:00<00:00,  3.60 Batches/s]\n"
     ]
    },
    {
     "data": {
      "text/plain": [
       "[<Answer {'answer': '1653 the poet Zygmunt Laukowski', 'type': 'extractive', 'score': 0.03928980231285095, 'context': ' use of a crude form of a sea monster with a female upper body and holding a sword in its claws. In 1653 the poet Zygmunt Laukowski asks the question:', 'offsets_in_document': [{'start': 521, 'end': 552}], 'offsets_in_context': [{'start': 100, 'end': 131}], 'document_id': 'bf117db136b152b4b30ad6fb942b6aae', 'meta': {}}>,\n",
       " <Answer {'answer': 'juveniles are capable of reproduction before reaching the adult size and shape.', 'type': 'extractive', 'score': 0.0005937825189903378, 'context': 'ult form. In at least some species, juveniles are capable of reproduction before reaching the adult size and shape. The combination of hermaphroditism', 'offsets_in_document': [{'start': 912, 'end': 991}], 'offsets_in_context': [{'start': 36, 'end': 115}], 'document_id': 'e88147b5aea54c44d788c726b5555167', 'meta': {}}>,\n",
       " <Answer {'answer': '2009', 'type': 'extractive', 'score': 0.0004925424000248313, 'context': 'itizens and the rest of the nation had slowed its recovery from the 2008-2009 recession and made it more prone to boom-and-bust cycles. To partially r', 'offsets_in_document': [{'start': 203, 'end': 207}], 'offsets_in_context': [{'start': 73, 'end': 77}], 'document_id': 'a4da63f29951562a10abaf672cf15ee9', 'meta': {}}>,\n",
       " <Answer {'answer': 'juveniles behave more like true larvae, as they live among the plankton and thus occupy a different ecological niche from their parents and attain the adult form by a more radical metamorphosis, after dropping to the sea-floor', 'type': 'extractive', 'score': 0.0004680955607909709, 'context': 'juveniles behave more like true larvae, as they live among the plankton and thus occupy a different ecological niche from their parents and attain the adult form by a more radical metamorphosis, after dropping to the sea-floor', 'offsets_in_document': [{'start': 409, 'end': 635}], 'offsets_in_context': [{'start': 0, 'end': 226}], 'document_id': '6c1333d1e85e5ad5617f165b37f11bd0', 'meta': {}}>,\n",
       " <Answer {'answer': 'Denmark', 'type': 'extractive', 'score': 0.000332398631144315, 'context': 'ths of the oceans and seas. One of them decided to stay on the coast of Denmark and can be seen sitting at the entrance to the port of Copenhagen. The', 'offsets_in_document': [{'start': 246, 'end': 253}], 'offsets_in_context': [{'start': 72, 'end': 79}], 'document_id': '2417adb7d0d109e5b2d47e459bbb0ac0', 'meta': {}}>,\n",
       " <Answer {'answer': '2008', 'type': 'extractive', 'score': 0.00032431696308776736, 'context': ' schools. Over 10% of Swedish pupils were enrolled in private schools in 2008. Sweden is internationally known for this innovative school voucher mode', 'offsets_in_document': [{'start': 188, 'end': 192}], 'offsets_in_context': [{'start': 73, 'end': 77}], 'document_id': '14191c78f5a19ed264cc106a0c6ad298', 'meta': {}}>,\n",
       " <Answer {'answer': 'juveniles are capable of reproduction before reaching the adult size and shape', 'type': 'extractive', 'score': 0.0002756163594312966, 'context': 'ult form. In at least some species, juveniles are capable of reproduction before reaching the adult size and shape. The combination of hermaphroditism', 'offsets_in_document': [{'start': 912, 'end': 990}], 'offsets_in_context': [{'start': 36, 'end': 114}], 'document_id': 'e88147b5aea54c44d788c726b5555167', 'meta': {}}>,\n",
       " <Answer {'answer': 'poorer countries, where life expectancy increases rapidly as per capita income increases, but in recent decades it has slowed down among middle income countries and plateaued among the richest thirty or so countries in the world. Americans live no longer on average (about 77 years in 2004', 'type': 'extractive', 'score': 0.00010812793334480375, 'context': ' poorer countries, where life expectancy increases rapidly as per capita income increases, but in recent decades it has slowed down among middle income countries and plateaued among the richest thirty or so countries in the world. Americans live no longer on average (about 77 years in 2004', 'offsets_in_document': [{'start': 222, 'end': 511}], 'offsets_in_context': [{'start': 1, 'end': 290}], 'document_id': '63d515682851c0553c3467d3e4d29a85', 'meta': {}}>,\n",
       " <Answer {'answer': 'carry', 'type': 'extractive', 'score': 0.0001058998896041885, 'context': \"fɔːr/ or /ˈtiːnəfɔːr/; from the Greek κτείς kteis 'comb' and φέρω pherō 'carry'; commonly known as comb jellies) is a phylum of animals that live in m\", 'offsets_in_document': [{'start': 125, 'end': 130}], 'offsets_in_context': [{'start': 73, 'end': 78}], 'document_id': 'afcd3cdccfbc4099e6a67d098538176d', 'meta': {}}>,\n",
       " <Answer {'answer': 'Cestids can swim by undulating their bodies as well as by the beating of their comb-rows', 'type': 'extractive', 'score': 8.686516957823187e-05, 'context': 'of the wing-like body surface. Cestids can swim by undulating their bodies as well as by the beating of their comb-rows. There are two known species, ', 'offsets_in_document': [{'start': 329, 'end': 417}], 'offsets_in_context': [{'start': 31, 'end': 119}], 'document_id': '756da4258673f7287db6430af881159a', 'meta': {}}>]"
      ]
     },
     "execution_count": 23,
     "metadata": {},
     "output_type": "execute_result"
    }
   ],
   "source": [
    "pipeline.run(query='Will there ever be born a boy who can swim as fast as a shark?')['answers']"
   ]
  },
  {
   "cell_type": "code",
   "execution_count": null,
   "id": "ea48add9-c30a-441f-a8c2-6edd53827b51",
   "metadata": {},
   "outputs": [],
   "source": []
  }
 ],
 "metadata": {
  "kernelspec": {
   "display_name": "Python 3 (ipykernel)",
   "language": "python",
   "name": "python3"
  },
  "language_info": {
   "codemirror_mode": {
    "name": "ipython",
    "version": 3
   },
   "file_extension": ".py",
   "mimetype": "text/x-python",
   "name": "python",
   "nbconvert_exporter": "python",
   "pygments_lexer": "ipython3",
   "version": "3.9.7"
  }
 },
 "nbformat": 4,
 "nbformat_minor": 5
}
