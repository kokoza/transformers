{
 "cells": [
  {
   "cell_type": "markdown",
   "id": "increasing-giving",
   "metadata": {},
   "source": [
    "# Elasticsearch With Haystack\n",
    "\n",
    "We will be communicating with our Elasticsearch document store via Haystack. First, we need to install Haystack using pip:\n",
    "\n",
    "On Windows:\n",
    "\n",
    "```\n",
    "pip install farm-haystack -f https://download.pytorch.org/whl/torch_stable.html\n",
    "```\n",
    "\n",
    "Anything else:\n",
    "\n",
    "```\n",
    "pip install farm-haystack\n",
    "```\n",
    "\n",
    "We will start by indexing the SQuAD dev data. So let's load that into our notebook first.\n",
    "\n"
   ]
  },
  {
   "cell_type": "code",
   "execution_count": 1,
   "id": "underlying-curtis",
   "metadata": {},
   "outputs": [],
   "source": [
    "import json\n",
    "\n",
    "with open('../../data/squad/dev.json', 'r') as f:\n",
    "    squad = json.load(f)"
   ]
  },
  {
   "cell_type": "markdown",
   "id": "following-medication",
   "metadata": {},
   "source": [
    "Next, we initialize a connection between Haystack and our local Elasticsearch instance like so:"
   ]
  },
  {
   "cell_type": "code",
   "execution_count": 2,
   "id": "7eea6c5b-941d-4531-9119-f404806370d3",
   "metadata": {},
   "outputs": [],
   "source": [
    "def reading(file_name = 'credentials.txt'):\n",
    "    s = open(file_name, 'r').read()\n",
    "    dict = eval(s)\n",
    "    return(dict)\n",
    "\n",
    "credential_dict = reading()"
   ]
  },
  {
   "cell_type": "raw",
   "id": "e3f5ff27-2334-4aa6-82f3-47f39fb2d9e7",
   "metadata": {},
   "source": [
    "from haystack.document_stores.elasticsearch import ElasticsearchDocumentStore"
   ]
  },
  {
   "cell_type": "code",
   "execution_count": 4,
   "id": "eb327873-4b56-4c78-bde2-f3bdbb6b0672",
   "metadata": {},
   "outputs": [],
   "source": [
    "# Note: Needed to add scheme='https'\n",
    "document_store = ElasticsearchDocumentStore(host='localhost', scheme='https', username=credential_dict['username'], password=credential_dict['pwd'], ca_certs=credential_dict['ca_certs'], index='squad_docs')"
   ]
  },
  {
   "cell_type": "markdown",
   "id": "baking-samoa",
   "metadata": {},
   "source": [
    "Great, we've established our connection, now let's try querying our Elasticsearch instance. We will do this through the `requests` library."
   ]
  },
  {
   "cell_type": "code",
   "execution_count": 5,
   "id": "bearing-tuesday",
   "metadata": {},
   "outputs": [],
   "source": [
    "import requests"
   ]
  },
  {
   "cell_type": "markdown",
   "id": "mexican-board",
   "metadata": {},
   "source": [
    "Let's check our cluster *health* (eg the general status of our Elasticsearch instance). We do this by sending a **GET** request to the `_cluster/health` endpoint."
   ]
  },
  {
   "cell_type": "code",
   "execution_count": 6,
   "id": "modular-learning",
   "metadata": {},
   "outputs": [
    {
     "name": "stdout",
     "output_type": "stream",
     "text": [
      "{'cluster_name': 'elasticsearch', 'status': 'yellow', 'timed_out': False, 'number_of_nodes': 1, 'number_of_data_nodes': 1, 'active_primary_shards': 4, 'active_shards': 4, 'relocating_shards': 0, 'initializing_shards': 0, 'unassigned_shards': 2, 'delayed_unassigned_shards': 0, 'number_of_pending_tasks': 0, 'number_of_in_flight_fetch': 0, 'task_max_waiting_in_queue_millis': 0, 'active_shards_percent_as_number': 66.66666666666666}\n"
     ]
    },
    {
     "name": "stderr",
     "output_type": "stream",
     "text": [
      "/home/tola/anaconda3/lib/python3.9/site-packages/elasticsearch/connection/http_requests.py:139: UserWarning: Connecting to https://localhost:9200 using SSL with verify_certs=False is insecure.\n",
      "  warnings.warn(\n",
      "/home/tola/anaconda3/lib/python3.9/site-packages/urllib3/connectionpool.py:1013: InsecureRequestWarning: Unverified HTTPS request is being made to host 'localhost'. Adding certificate verification is strongly advised. See: https://urllib3.readthedocs.io/en/1.26.x/advanced-usage.html#ssl-warnings\n",
      "  warnings.warn(\n"
     ]
    }
   ],
   "source": [
    "from elasticsearch import Elasticsearch, RequestsHttpConnection\n",
    "es = Elasticsearch(host='localhost', connection_class=RequestsHttpConnection, http_auth=(credential_dict['username'], credential_dict['pwd']),use_ssl=True, verify_certs=False)\n",
    "print(es.cluster.health())\n",
    "\n",
    "# This has problems running due to certificate/https issues in the latest version of elastic net\n",
    "\n",
    "# res = requests.get('https://localhost:9200/_cluster/health')\n",
    "\n",
    "# res.json()"
   ]
  },
  {
   "cell_type": "markdown",
   "id": "musical-vault",
   "metadata": {},
   "source": [
    "Okay we can see that the cluster is definitely running. The cluster status is *yellow*, ideally we want to aim for *green* but the reason we see yellow here is because not all replica shards have been allocated to nodes. The details of this don't really matter, but it essentially just means that we don't have a full set of backup (*replica*) data shards - which is only a problem if our *primary* data sources get corrupted/lost. That is beyond the scope of what we are doing here however.\n",
    "\n",
    "## Adding Data\n",
    "\n",
    "Right now our Elasticsearch instance contains a single, empty index called *'squad_docs'*. We need to populate this with our `squad` data. We populate our index through the `document_store.write_documents(<input_data>)` method, where our *\\<input_data\\>* must be a list of dictionaries in the format:\n",
    "\n",
    "```json\n",
    "{\n",
    "    'text': '<document text here>',\n",
    "    'meta': {\n",
    "        'other': '<other info here>'\n",
    "    }\n",
    "}\n",
    "```\n",
    "\n",
    "#### Note: As of haystack version 1.0 'text' has been replaced with 'content'\n",
    "\n",
    "We **must** include the ~~'text'~~`~~'content'~~` key. The *content* must contain the text from each sample, which in our case is a *context* string. The `'meta'` data is optional, but is usually used to contain anything else that might be relevant, so for example we might want to include the *group* that the context came from (eg 'Beyonce', or 'Matter')."
   ]
  },
  {
   "cell_type": "code",
   "execution_count": 7,
   "id": "renewable-chester",
   "metadata": {},
   "outputs": [],
   "source": [
    "# Updated 'text' to 'content'\n",
    "squad_docs = []\n",
    "\n",
    "for sample in squad:\n",
    "    squad_docs.append({\n",
    "        # 'text': sample['context']\n",
    "        'content': sample['context']\n",
    "    })"
   ]
  },
  {
   "cell_type": "markdown",
   "id": "human-burton",
   "metadata": {},
   "source": [
    "Then we add our data to the index like this:"
   ]
  },
  {
   "cell_type": "code",
   "execution_count": 8,
   "id": "vocational-shirt",
   "metadata": {},
   "outputs": [],
   "source": [
    "document_store.write_documents(squad_docs)"
   ]
  },
  {
   "cell_type": "markdown",
   "id": "a63be342-0407-46da-a13d-4ac6008d9856",
   "metadata": {},
   "source": [
    "## Retrieving Data"
   ]
  },
  {
   "cell_type": "markdown",
   "id": "north-quest",
   "metadata": {},
   "source": [
    "When we're retrieving data from Elasticsearch we will be retrieving documents using either the TF-IDF, or BM25 algorithms.\n",
    "\n",
    "**TF-IDF** is a common *relevance* scoring algorithm, the built is calculated using:\n",
    "\n",
    "* **TF**, the volume of words in the query (question) that appear in the document.\n",
    "\n",
    "* **IDF**, the inverse of the fraction of documents that contain the same word (eg common words like *'the'* don't score well, whereas *'Beyonce'* would).\n",
    "\n",
    "We integrate TD-IDF using:"
   ]
  },
  {
   "cell_type": "code",
   "execution_count": 9,
   "id": "minute-offer",
   "metadata": {},
   "outputs": [],
   "source": [
    "# from haystack.retriever.sparse import TfidfRetriever\n",
    "from haystack.nodes import TfidfRetriever\n",
    "\n",
    "retriever = TfidfRetriever(document_store)"
   ]
  },
  {
   "cell_type": "markdown",
   "id": "careful-trainer",
   "metadata": {},
   "source": [
    "We can see here that when building our retriever, it identified a total of *16209* 'candidate paragraphs'. These are all of the contexts from our `squad` data:"
   ]
  },
  {
   "cell_type": "code",
   "execution_count": 10,
   "id": "passive-overview",
   "metadata": {},
   "outputs": [
    {
     "data": {
      "text/plain": [
       "16209"
      ]
     },
     "execution_count": 10,
     "metadata": {},
     "output_type": "execute_result"
    }
   ],
   "source": [
    "len(squad)"
   ]
  },
  {
   "cell_type": "markdown",
   "id": "operating-tender",
   "metadata": {},
   "source": [
    "For now, we can return data from Elasticsearch, using the **TF-IDF** algorithm, with the `retrieve` method."
   ]
  },
  {
   "cell_type": "code",
   "execution_count": 11,
   "id": "complex-peripheral",
   "metadata": {},
   "outputs": [
    {
     "data": {
      "text/plain": [
       "[<Document: {'content': 'The Normans (Norman: Nourmands; French: Normands; Latin: Normanni) were the people who in the 10th and 11th centuries gave their name to Normandy, a region in France. They were descended from Norse (\"Norman\" comes from \"Norseman\") raiders and pirates from Denmark, Iceland and Norway who, under their leader Rollo, agreed to swear fealty to King Charles III of West Francia. Through generations of assimilation and mixing with the native Frankish and Roman-Gaulish populations, their descendants would gradually merge with the Carolingian-based cultures of West Francia. The distinct cultural and ethnic identity of the Normans emerged initially in the first half of the 10th century, and it continued to evolve over the succeeding centuries.', 'content_type': 'text', 'score': None, 'meta': {}, 'embedding': None, 'id': '220619be4e664f1551c59977faf57fdc'}>,\n",
       " <Document: {'content': \"A few years after the First Crusade, in 1107, the Normans under the command of Bohemond, Robert's son, landed in Valona and besieged Dyrrachium using the most sophisticated military equipment of the time, but to no avail. Meanwhile, they occupied Petrela, the citadel of Mili at the banks of the river Deabolis, Gllavenica (Ballsh), Kanina and Jericho. This time, the Albanians sided with the Normans, dissatisfied by the heavy taxes the Byzantines had imposed upon them. With their help, the Normans secured the Arbanon passes and opened their way to Dibra. The lack of supplies, disease and Byzantine resistance forced Bohemond to retreat from his campaign and sign a peace treaty with the Byzantines in the city of Deabolis.\", 'content_type': 'text', 'score': None, 'meta': {}, 'embedding': None, 'id': '9a5db4e56276233b5a68078c98250773'}>,\n",
       " <Document: {'content': 'Soon after the Normans began to enter Italy, they entered the Byzantine Empire and then Armenia, fighting against the Pechenegs, the Bulgars, and especially the Seljuk Turks. Norman mercenaries were first encouraged to come to the south by the Lombards to act against the Byzantines, but they soon fought in Byzantine service in Sicily. They were prominent alongside Varangian and Lombard contingents in the Sicilian campaign of George Maniaces in 1038–40. There is debate whether the Normans in Greek service actually were from Norman Italy, and it now seems likely only a few came from there. It is also unknown how many of the \"Franks\", as the Byzantines called them, were Normans and not other Frenchmen.', 'content_type': 'text', 'score': None, 'meta': {}, 'embedding': None, 'id': '43a89236d319bff5dfa3ac41d6c676f0'}>,\n",
       " <Document: {'content': 'The Age of Imperialism, a time period beginning around 1700, saw (generally European) industrializing nations engaging in the process of colonizing, influencing, and annexing other parts of the world in order to gain political power.[citation needed] Although imperialist practices have existed for thousands of years, the term \"Age of Imperialism\" generally refers to the activities of European powers from the early 18th century through to the middle of the 20th century, for example, the \"The Great Game\" in Persian lands, the \"Scramble for Africa\" and the \"Open Door Policy\" in China.', 'content_type': 'text', 'score': None, 'meta': {}, 'embedding': None, 'id': 'e7bb9215388d74da6f25531e007f09ab'}>,\n",
       " <Document: {'content': 'The English name \"Normans\" comes from the French words Normans/Normanz, plural of Normant, modern French normand, which is itself borrowed from Old Low Franconian Nortmann \"Northman\" or directly from Old Norse Norðmaðr, Latinized variously as Nortmannus, Normannus, or Nordmannus (recorded in Medieval Latin, 9th century) to mean \"Norseman, Viking\".', 'content_type': 'text', 'score': None, 'meta': {}, 'embedding': None, 'id': 'dbd329667cb45618e2df4f83dedcac31'}>,\n",
       " <Document: {'content': 'Even before the Norman Conquest of England, the Normans had come into contact with Wales. Edward the Confessor had set up the aforementioned Ralph as earl of Hereford and charged him with defending the Marches and warring with the Welsh. In these original ventures, the Normans failed to make any headway into Wales.', 'content_type': 'text', 'score': None, 'meta': {}, 'embedding': None, 'id': 'd9fd14d55372e308d2f45bc28edf3dcd'}>,\n",
       " <Document: {'content': 'Some Normans joined Turkish forces to aid in the destruction of the Armenians vassal-states of Sassoun and Taron in far eastern Anatolia. Later, many took up service with the Armenian state further south in Cilicia and the Taurus Mountains. A Norman named Oursel led a force of \"Franks\" into the upper Euphrates valley in northern Syria. From 1073 to 1074, 8,000 of the 20,000 troops of the Armenian general Philaretus Brachamius were Normans—formerly of Oursel—led by Raimbaud. They even lent their ethnicity to the name of their castle: Afranji, meaning \"Franks.\" The known trade between Amalfi and Antioch and between Bari and Tarsus may be related to the presence of Italo-Normans in those cities while Amalfi and Bari were under Norman rule in Italy.', 'content_type': 'text', 'score': None, 'meta': {}, 'embedding': None, 'id': '678d813961e3ce2992ddf9a88f43e14'}>,\n",
       " <Document: {'content': 'Most early Greeks did not even consider 1 to be a number, so they could not consider it to be a prime. By the Middle Ages and Renaissance many mathematicians included 1 as the first prime number. In the mid-18th century Christian Goldbach listed 1 as the first prime in his famous correspondence with Leonhard Euler -- who did not agree. In the 19th century many mathematicians still considered the number 1 to be a prime. For example, Derrick Norman Lehmer\\'s list of primes up to 10,006,721, reprinted as late as 1956, started with 1 as its first prime. Henri Lebesgue is said to be the last professional mathematician to call 1 prime. By the early 20th century, mathematicians began to accept that 1 is not a prime number, but rather forms its own special category as a \"unit\".', 'content_type': 'text', 'score': None, 'meta': {}, 'embedding': None, 'id': '8b6407c0badac083d5a77b22cb245b78'}>,\n",
       " <Document: {'content': 'In 1066, Duke William II of Normandy conquered England killing King Harold II at the Battle of Hastings. The invading Normans and their descendants replaced the Anglo-Saxons as the ruling class of England. The nobility of England were part of a single Normans culture and many had lands on both sides of the channel. Early Norman kings of England, as Dukes of Normandy, owed homage to the King of France for their land on the continent. They considered England to be their most important holding (it brought with it the title of King—an important status symbol).', 'content_type': 'text', 'score': None, 'meta': {}, 'embedding': None, 'id': '3623071b1b3f3426fc00863b941b9ebf'}>,\n",
       " <Document: {'content': 'In the visual arts, the Normans did not have the rich and distinctive traditions of the cultures they conquered. However, in the early 11th century the dukes began a programme of church reform, encouraging the Cluniac reform of monasteries and patronising intellectual pursuits, especially the proliferation of scriptoria and the reconstitution of a compilation of lost illuminated manuscripts. The church was utilised by the dukes as a unifying force for their disparate duchy. The chief monasteries taking part in this \"renaissance\" of Norman art and scholarship were Mont-Saint-Michel, Fécamp, Jumièges, Bec, Saint-Ouen, Saint-Evroul, and Saint-Wandrille. These centres were in contact with the so-called \"Winchester school\", which channeled a pure Carolingian artistic tradition to Normandy. In the final decade of the 11th and first of the 12th century, Normandy experienced a golden age of illustrated manuscripts, but it was brief and the major scriptoria of Normandy ceased to function after the midpoint of the century.', 'content_type': 'text', 'score': None, 'meta': {}, 'embedding': None, 'id': 'd8f63ac2e29a7096594151bdfb6ff073'}>]"
      ]
     },
     "execution_count": 11,
     "metadata": {},
     "output_type": "execute_result"
    }
   ],
   "source": [
    "query = \"What century did the Normans first gain their separate identity?\"\n",
    "\n",
    "retriever.retrieve(query)"
   ]
  },
  {
   "cell_type": "markdown",
   "id": "ecbd01af-01c3-4925-be1d-c3d002322599",
   "metadata": {},
   "source": [
    "## Manipulating the Index"
   ]
  },
  {
   "cell_type": "markdown",
   "id": "living-concentration",
   "metadata": {},
   "source": [
    "This query returns a huge number of duplicates. The reason we have these is because our data contained duplicates of the same context because each context could be tied to several different questions. So now, we need to restart by first deleting everything inside our *squad_docs* index. Then re-indexing our deduplicated data.\n",
    "\n",
    "We can delete every document in our index by sending a **POST** request to the `<index_name>/_delete_by_query` endpoint:"
   ]
  },
  {
   "cell_type": "code",
   "execution_count": 12,
   "id": "stable-struggle",
   "metadata": {
    "tags": []
   },
   "outputs": [
    {
     "name": "stderr",
     "output_type": "stream",
     "text": [
      "/home/tola/anaconda3/lib/python3.9/site-packages/urllib3/connectionpool.py:1013: InsecureRequestWarning: Unverified HTTPS request is being made to host 'localhost'. Adding certificate verification is strongly advised. See: https://urllib3.readthedocs.io/en/1.26.x/advanced-usage.html#ssl-warnings\n",
      "  warnings.warn(\n"
     ]
    },
    {
     "data": {
      "text/plain": [
       "{'took': 57,\n",
       " 'timed_out': False,\n",
       " 'total': 1204,\n",
       " 'deleted': 1204,\n",
       " 'batches': 2,\n",
       " 'version_conflicts': 0,\n",
       " 'noops': 0,\n",
       " 'retries': {'bulk': 0, 'search': 0},\n",
       " 'throttled_millis': 0,\n",
       " 'requests_per_second': -1.0,\n",
       " 'throttled_until_millis': 0,\n",
       " 'failures': []}"
      ]
     },
     "execution_count": 12,
     "metadata": {},
     "output_type": "execute_result"
    }
   ],
   "source": [
    "# from elasticsearch import Elasticsearch, RequestsHttpConnection\n",
    "# es = Elasticsearch(host='localhost', connection_class=RequestsHttpConnection, http_auth=(credential_dict['username'], credential_dict['pwd']),use_ssl=True, verify_certs=False)\n",
    "\n",
    "es.delete_by_query(index=\"squad_docs\", body={\"query\": {'match_all': {}}})\n",
    "\n",
    "# Does not work in current version of elasticsearch\n",
    "# res = requests.post('http://localhost:9200/squad_docs/_delete_by_query',\n",
    "#                     json={\n",
    "#                         'query': {\n",
    "#                             'match_all': {}\n",
    "#                         }\n",
    "#                     })\n",
    "\n",
    "# res.json()"
   ]
  },
  {
   "cell_type": "markdown",
   "id": "durable-basis",
   "metadata": {},
   "source": [
    "Our response shows `'deleted': 16209`, which means all *16209* documents have been deleted from our *squad_docs* index. We can confirm this by calling the `<index_name>/_count` endpoint too:"
   ]
  },
  {
   "cell_type": "code",
   "execution_count": 13,
   "id": "coordinated-worthy",
   "metadata": {},
   "outputs": [
    {
     "name": "stderr",
     "output_type": "stream",
     "text": [
      "/home/tola/anaconda3/lib/python3.9/site-packages/urllib3/connectionpool.py:1013: InsecureRequestWarning: Unverified HTTPS request is being made to host 'localhost'. Adding certificate verification is strongly advised. See: https://urllib3.readthedocs.io/en/1.26.x/advanced-usage.html#ssl-warnings\n",
      "  warnings.warn(\n"
     ]
    },
    {
     "data": {
      "text/plain": [
       "[{'epoch': '1668402264', 'timestamp': '05:04:24', 'count': '0'}]"
      ]
     },
     "execution_count": 13,
     "metadata": {},
     "output_type": "execute_result"
    }
   ],
   "source": [
    "es.cat.count(index=\"squad_docs\", params={\"format\": \"json\"})\n",
    "\n",
    "# Does not work in current version of elasticsearch\n",
    "# res = requests.get('http://localhost:9200/squad_docs/_count')\n",
    "\n",
    "# res.json()"
   ]
  },
  {
   "cell_type": "markdown",
   "id": "velvet-financing",
   "metadata": {},
   "source": [
    "Now that we've cleared the index, it's time to remove duplicates from our SQuAD contexts and re-index them."
   ]
  },
  {
   "cell_type": "code",
   "execution_count": 14,
   "id": "legislative-rescue",
   "metadata": {},
   "outputs": [],
   "source": [
    "# create list of contexts (we cannot do this using current dictionary format)\n",
    "contexts = [sample['context'] for sample in squad]\n",
    "\n",
    "# convert to set to remove duplicates, then back to list\n",
    "contexts = list(set(contexts))\n",
    "\n",
    "# convert back to dictionary format we need\n",
    "squad_docs = [{'content': sample} for sample in contexts]"
   ]
  },
  {
   "cell_type": "markdown",
   "id": "light-embassy",
   "metadata": {},
   "source": [
    "Finally, we can re-index our Elasticsearch as we did before."
   ]
  },
  {
   "cell_type": "code",
   "execution_count": 18,
   "id": "bac19227-100e-4fed-b00b-775384f451fb",
   "metadata": {},
   "outputs": [
    {
     "data": {
      "text/plain": [
       "1204"
      ]
     },
     "execution_count": 18,
     "metadata": {},
     "output_type": "execute_result"
    }
   ],
   "source": [
    "len(squad_docs)"
   ]
  },
  {
   "cell_type": "code",
   "execution_count": 19,
   "id": "competitive-potter",
   "metadata": {},
   "outputs": [],
   "source": [
    "document_store.write_documents(squad_docs)"
   ]
  },
  {
   "cell_type": "markdown",
   "id": "supported-secret",
   "metadata": {},
   "source": [
    "Because we have changed the contents of our index, we initialize our retriever once more."
   ]
  },
  {
   "cell_type": "code",
   "execution_count": 20,
   "id": "conditional-sweden",
   "metadata": {},
   "outputs": [],
   "source": [
    "retriever = TfidfRetriever(document_store)"
   ]
  },
  {
   "cell_type": "markdown",
   "id": "available-flash",
   "metadata": {},
   "source": [
    "And this time we see that our retriever found *1204* documents (much less than the *16209* we found before). Now it's time to query our data again!"
   ]
  },
  {
   "cell_type": "code",
   "execution_count": 21,
   "id": "cardiovascular-skating",
   "metadata": {
    "collapsed": true,
    "jupyter": {
     "outputs_hidden": true
    },
    "tags": []
   },
   "outputs": [
    {
     "data": {
      "text/plain": [
       "[<Document: {'content': 'The Normans (Norman: Nourmands; French: Normands; Latin: Normanni) were the people who in the 10th and 11th centuries gave their name to Normandy, a region in France. They were descended from Norse (\"Norman\" comes from \"Norseman\") raiders and pirates from Denmark, Iceland and Norway who, under their leader Rollo, agreed to swear fealty to King Charles III of West Francia. Through generations of assimilation and mixing with the native Frankish and Roman-Gaulish populations, their descendants would gradually merge with the Carolingian-based cultures of West Francia. The distinct cultural and ethnic identity of the Normans emerged initially in the first half of the 10th century, and it continued to evolve over the succeeding centuries.', 'content_type': 'text', 'score': None, 'meta': {}, 'embedding': None, 'id': '220619be4e664f1551c59977faf57fdc'}>,\n",
       " <Document: {'content': \"A few years after the First Crusade, in 1107, the Normans under the command of Bohemond, Robert's son, landed in Valona and besieged Dyrrachium using the most sophisticated military equipment of the time, but to no avail. Meanwhile, they occupied Petrela, the citadel of Mili at the banks of the river Deabolis, Gllavenica (Ballsh), Kanina and Jericho. This time, the Albanians sided with the Normans, dissatisfied by the heavy taxes the Byzantines had imposed upon them. With their help, the Normans secured the Arbanon passes and opened their way to Dibra. The lack of supplies, disease and Byzantine resistance forced Bohemond to retreat from his campaign and sign a peace treaty with the Byzantines in the city of Deabolis.\", 'content_type': 'text', 'score': None, 'meta': {}, 'embedding': None, 'id': '9a5db4e56276233b5a68078c98250773'}>,\n",
       " <Document: {'content': 'Soon after the Normans began to enter Italy, they entered the Byzantine Empire and then Armenia, fighting against the Pechenegs, the Bulgars, and especially the Seljuk Turks. Norman mercenaries were first encouraged to come to the south by the Lombards to act against the Byzantines, but they soon fought in Byzantine service in Sicily. They were prominent alongside Varangian and Lombard contingents in the Sicilian campaign of George Maniaces in 1038–40. There is debate whether the Normans in Greek service actually were from Norman Italy, and it now seems likely only a few came from there. It is also unknown how many of the \"Franks\", as the Byzantines called them, were Normans and not other Frenchmen.', 'content_type': 'text', 'score': None, 'meta': {}, 'embedding': None, 'id': '43a89236d319bff5dfa3ac41d6c676f0'}>,\n",
       " <Document: {'content': 'The Age of Imperialism, a time period beginning around 1700, saw (generally European) industrializing nations engaging in the process of colonizing, influencing, and annexing other parts of the world in order to gain political power.[citation needed] Although imperialist practices have existed for thousands of years, the term \"Age of Imperialism\" generally refers to the activities of European powers from the early 18th century through to the middle of the 20th century, for example, the \"The Great Game\" in Persian lands, the \"Scramble for Africa\" and the \"Open Door Policy\" in China.', 'content_type': 'text', 'score': None, 'meta': {}, 'embedding': None, 'id': 'e7bb9215388d74da6f25531e007f09ab'}>,\n",
       " <Document: {'content': 'The English name \"Normans\" comes from the French words Normans/Normanz, plural of Normant, modern French normand, which is itself borrowed from Old Low Franconian Nortmann \"Northman\" or directly from Old Norse Norðmaðr, Latinized variously as Nortmannus, Normannus, or Nordmannus (recorded in Medieval Latin, 9th century) to mean \"Norseman, Viking\".', 'content_type': 'text', 'score': None, 'meta': {}, 'embedding': None, 'id': 'dbd329667cb45618e2df4f83dedcac31'}>,\n",
       " <Document: {'content': 'Even before the Norman Conquest of England, the Normans had come into contact with Wales. Edward the Confessor had set up the aforementioned Ralph as earl of Hereford and charged him with defending the Marches and warring with the Welsh. In these original ventures, the Normans failed to make any headway into Wales.', 'content_type': 'text', 'score': None, 'meta': {}, 'embedding': None, 'id': 'd9fd14d55372e308d2f45bc28edf3dcd'}>,\n",
       " <Document: {'content': 'Some Normans joined Turkish forces to aid in the destruction of the Armenians vassal-states of Sassoun and Taron in far eastern Anatolia. Later, many took up service with the Armenian state further south in Cilicia and the Taurus Mountains. A Norman named Oursel led a force of \"Franks\" into the upper Euphrates valley in northern Syria. From 1073 to 1074, 8,000 of the 20,000 troops of the Armenian general Philaretus Brachamius were Normans—formerly of Oursel—led by Raimbaud. They even lent their ethnicity to the name of their castle: Afranji, meaning \"Franks.\" The known trade between Amalfi and Antioch and between Bari and Tarsus may be related to the presence of Italo-Normans in those cities while Amalfi and Bari were under Norman rule in Italy.', 'content_type': 'text', 'score': None, 'meta': {}, 'embedding': None, 'id': '678d813961e3ce2992ddf9a88f43e14'}>,\n",
       " <Document: {'content': 'Most early Greeks did not even consider 1 to be a number, so they could not consider it to be a prime. By the Middle Ages and Renaissance many mathematicians included 1 as the first prime number. In the mid-18th century Christian Goldbach listed 1 as the first prime in his famous correspondence with Leonhard Euler -- who did not agree. In the 19th century many mathematicians still considered the number 1 to be a prime. For example, Derrick Norman Lehmer\\'s list of primes up to 10,006,721, reprinted as late as 1956, started with 1 as its first prime. Henri Lebesgue is said to be the last professional mathematician to call 1 prime. By the early 20th century, mathematicians began to accept that 1 is not a prime number, but rather forms its own special category as a \"unit\".', 'content_type': 'text', 'score': None, 'meta': {}, 'embedding': None, 'id': '8b6407c0badac083d5a77b22cb245b78'}>,\n",
       " <Document: {'content': 'In 1066, Duke William II of Normandy conquered England killing King Harold II at the Battle of Hastings. The invading Normans and their descendants replaced the Anglo-Saxons as the ruling class of England. The nobility of England were part of a single Normans culture and many had lands on both sides of the channel. Early Norman kings of England, as Dukes of Normandy, owed homage to the King of France for their land on the continent. They considered England to be their most important holding (it brought with it the title of King—an important status symbol).', 'content_type': 'text', 'score': None, 'meta': {}, 'embedding': None, 'id': '3623071b1b3f3426fc00863b941b9ebf'}>,\n",
       " <Document: {'content': 'In the visual arts, the Normans did not have the rich and distinctive traditions of the cultures they conquered. However, in the early 11th century the dukes began a programme of church reform, encouraging the Cluniac reform of monasteries and patronising intellectual pursuits, especially the proliferation of scriptoria and the reconstitution of a compilation of lost illuminated manuscripts. The church was utilised by the dukes as a unifying force for their disparate duchy. The chief monasteries taking part in this \"renaissance\" of Norman art and scholarship were Mont-Saint-Michel, Fécamp, Jumièges, Bec, Saint-Ouen, Saint-Evroul, and Saint-Wandrille. These centres were in contact with the so-called \"Winchester school\", which channeled a pure Carolingian artistic tradition to Normandy. In the final decade of the 11th and first of the 12th century, Normandy experienced a golden age of illustrated manuscripts, but it was brief and the major scriptoria of Normandy ceased to function after the midpoint of the century.', 'content_type': 'text', 'score': None, 'meta': {}, 'embedding': None, 'id': 'd8f63ac2e29a7096594151bdfb6ff073'}>]"
      ]
     },
     "execution_count": 21,
     "metadata": {},
     "output_type": "execute_result"
    }
   ],
   "source": [
    "retriever.retrieve(query)"
   ]
  },
  {
   "cell_type": "markdown",
   "id": "301bacaf-20dc-4f2f-a5a3-db2d9eca1042",
   "metadata": {
    "tags": []
   },
   "source": [
    "## TFIDF vs BM25:\n",
    "\n",
    "#### TF: Term frequency\n",
    "\n",
    "#### IDF: Inverse Document Frequency = log ( total number of documents in a collection / document frequency of term )\n",
    "\n",
    "* BM25 is a variation of TFIDF\n",
    "* BM25 still calculates TF and IDF; but TF score is dampened when returning large number of matches between query and context\n",
    "* Also considers document length which normalizes the score - i.e. short documents score better than documents that return the same number of matches"
   ]
  },
  {
   "cell_type": "markdown",
   "id": "still-morrison",
   "metadata": {},
   "source": [
    "Now we're returning a set of relevant documents, without duplicates.\n",
    "\n",
    "Finally, let's return back to the other *sparse retriever* that we can use with Elasticsearch. We already used **TF-IDF**, by switching `TfidfRetriever` for `ElasticsearchRetriever` we can switch to the **BM25** algorithm, which is an *improved* version of **TF-IDF** and is recommended by Haystack.\n",
    "\n",
    "So, let's initialize that and make another query with it."
   ]
  },
  {
   "cell_type": "code",
   "execution_count": 23,
   "id": "coated-judges",
   "metadata": {},
   "outputs": [
    {
     "data": {
      "text/plain": [
       "[<Document: {'content': 'The Normans (Norman: Nourmands; French: Normands; Latin: Normanni) were the people who in the 10th and 11th centuries gave their name to Normandy, a region in France. They were descended from Norse (\"Norman\" comes from \"Norseman\") raiders and pirates from Denmark, Iceland and Norway who, under their leader Rollo, agreed to swear fealty to King Charles III of West Francia. Through generations of assimilation and mixing with the native Frankish and Roman-Gaulish populations, their descendants would gradually merge with the Carolingian-based cultures of West Francia. The distinct cultural and ethnic identity of the Normans emerged initially in the first half of the 10th century, and it continued to evolve over the succeeding centuries.', 'content_type': 'text', 'score': 0.9038276026059531, 'meta': {}, 'embedding': None, 'id': '220619be4e664f1551c59977faf57fdc'}>,\n",
       " <Document: {'content': 'In the visual arts, the Normans did not have the rich and distinctive traditions of the cultures they conquered. However, in the early 11th century the dukes began a programme of church reform, encouraging the Cluniac reform of monasteries and patronising intellectual pursuits, especially the proliferation of scriptoria and the reconstitution of a compilation of lost illuminated manuscripts. The church was utilised by the dukes as a unifying force for their disparate duchy. The chief monasteries taking part in this \"renaissance\" of Norman art and scholarship were Mont-Saint-Michel, Fécamp, Jumièges, Bec, Saint-Ouen, Saint-Evroul, and Saint-Wandrille. These centres were in contact with the so-called \"Winchester school\", which channeled a pure Carolingian artistic tradition to Normandy. In the final decade of the 11th and first of the 12th century, Normandy experienced a golden age of illustrated manuscripts, but it was brief and the major scriptoria of Normandy ceased to function after the midpoint of the century.', 'content_type': 'text', 'score': 0.8357345229729638, 'meta': {}, 'embedding': None, 'id': 'd8f63ac2e29a7096594151bdfb6ff073'}>,\n",
       " <Document: {'content': 'Highly combustible materials that leave little residue, such as wood or coal, were thought to be made mostly of phlogiston; whereas non-combustible substances that corrode, such as iron, contained very little. Air did not play a role in phlogiston theory, nor were any initial quantitative experiments conducted to test the idea; instead, it was based on observations of what happens when something burns, that most common objects appear to become lighter and seem to lose something in the process. The fact that a substance like wood gains overall weight in burning was hidden by the buoyancy of the gaseous combustion products. Indeed, one of the first clues that the phlogiston theory was incorrect was that metals, too, gain weight in rusting (when they were supposedly losing phlogiston).', 'content_type': 'text', 'score': 0.8342288527710865, 'meta': {}, 'embedding': None, 'id': '86d9472fe79000f98ce347635f895c3e'}>,\n",
       " <Document: {'content': 'Some Huguenots settled in Bedfordshire, one of the main centres of the British lace industry at the time. Although 19th century sources have asserted that some of these refugees were lacemakers and contributed to the East Midlands lace industry, this is contentious. The only reference to immigrant lacemakers in this period is of twenty-five widows who settled in Dover, and there is no contemporary documentation to support there being Huguenot lacemakers in Bedfordshire. The implication that the style of lace known as \\'Bucks Point\\' demonstrates a Huguenot influence, being a \"combination of Mechlin patterns on Lille ground\", is fallacious: what is now known as Mechlin lace did not develop until first half of the eighteenth century and lace with Mechlin patterns and Lille ground did not appear until the end of the 18th century, when it was widely copied throughout Europe.', 'content_type': 'text', 'score': 0.8224335632824453, 'meta': {}, 'embedding': None, 'id': '6d4a69af177880d9cde2cde8d4d3a6fd'}>,\n",
       " <Document: {'content': 'The plague theory was first significantly challenged by the work of British bacteriologist J. F. D. Shrewsbury in 1970, who noted that the reported rates of mortality in rural areas during the 14th-century pandemic were inconsistent with the modern bubonic plague, leading him to conclude that contemporary accounts were exaggerations. In 1984 zoologist Graham Twigg produced the first major work to challenge the bubonic plague theory directly, and his doubts about the identity of the Black Death have been taken up by a number of authors, including Samuel K. Cohn, Jr. (2002), David Herlihy (1997), and Susan Scott and Christopher Duncan (2001).', 'content_type': 'text', 'score': 0.8000819296312218, 'meta': {}, 'embedding': None, 'id': '7883997a660cb1d166bbdcd5ee4e1127'}>,\n",
       " <Document: {'content': \"A few years after the First Crusade, in 1107, the Normans under the command of Bohemond, Robert's son, landed in Valona and besieged Dyrrachium using the most sophisticated military equipment of the time, but to no avail. Meanwhile, they occupied Petrela, the citadel of Mili at the banks of the river Deabolis, Gllavenica (Ballsh), Kanina and Jericho. This time, the Albanians sided with the Normans, dissatisfied by the heavy taxes the Byzantines had imposed upon them. With their help, the Normans secured the Arbanon passes and opened their way to Dibra. The lack of supplies, disease and Byzantine resistance forced Bohemond to retreat from his campaign and sign a peace treaty with the Byzantines in the city of Deabolis.\", 'content_type': 'text', 'score': 0.786465257466104, 'meta': {}, 'embedding': None, 'id': '9a5db4e56276233b5a68078c98250773'}>,\n",
       " <Document: {'content': 'Most early Greeks did not even consider 1 to be a number, so they could not consider it to be a prime. By the Middle Ages and Renaissance many mathematicians included 1 as the first prime number. In the mid-18th century Christian Goldbach listed 1 as the first prime in his famous correspondence with Leonhard Euler -- who did not agree. In the 19th century many mathematicians still considered the number 1 to be a prime. For example, Derrick Norman Lehmer\\'s list of primes up to 10,006,721, reprinted as late as 1956, started with 1 as its first prime. Henri Lebesgue is said to be the last professional mathematician to call 1 prime. By the early 20th century, mathematicians began to accept that 1 is not a prime number, but rather forms its own special category as a \"unit\".', 'content_type': 'text', 'score': 0.7855660457569832, 'meta': {}, 'embedding': None, 'id': '8b6407c0badac083d5a77b22cb245b78'}>,\n",
       " <Document: {'content': 'The English name \"Normans\" comes from the French words Normans/Normanz, plural of Normant, modern French normand, which is itself borrowed from Old Low Franconian Nortmann \"Northman\" or directly from Old Norse Norðmaðr, Latinized variously as Nortmannus, Normannus, or Nordmannus (recorded in Medieval Latin, 9th century) to mean \"Norseman, Viking\".', 'content_type': 'text', 'score': 0.7735902184953108, 'meta': {}, 'embedding': None, 'id': 'dbd329667cb45618e2df4f83dedcac31'}>,\n",
       " <Document: {'content': 'The Age of Imperialism, a time period beginning around 1700, saw (generally European) industrializing nations engaging in the process of colonizing, influencing, and annexing other parts of the world in order to gain political power.[citation needed] Although imperialist practices have existed for thousands of years, the term \"Age of Imperialism\" generally refers to the activities of European powers from the early 18th century through to the middle of the 20th century, for example, the \"The Great Game\" in Persian lands, the \"Scramble for Africa\" and the \"Open Door Policy\" in China.', 'content_type': 'text', 'score': 0.7674819759030688, 'meta': {}, 'embedding': None, 'id': 'e7bb9215388d74da6f25531e007f09ab'}>,\n",
       " <Document: {'content': \"After Washington had returned to Williamsburg, Dinwiddie ordered him to lead a larger force to assist Trent in his work. While en route, Washington learned of Trent's retreat. Since Tanaghrisson had promised support to the British, Washington continued toward Fort Duquesne and met with the Mingo leader. Learning of a French scouting party in the area, Washington, with Tanaghrisson and his party, surprised the Canadians on May 28 in what became known as the Battle of Jumonville Glen. They killed many of the Canadians, including their commanding officer, Joseph Coulon de Jumonville, whose head was reportedly split open by Tanaghrisson with a tomahawk. The historian Fred Anderson suggests that Tanaghrisson was acting to gain the support of the British and regain authority over his own people. They had been inclined to support the French, with whom they had long trading relationships. One of Tanaghrisson's men told Contrecoeur that Jumonville had been killed by British musket fire.\", 'content_type': 'text', 'score': 0.7538911126232138, 'meta': {}, 'embedding': None, 'id': '56aa4b2b368059c3a4d951b5f011e850'}>]"
      ]
     },
     "execution_count": 23,
     "metadata": {},
     "output_type": "execute_result"
    }
   ],
   "source": [
    "# import BM25 retriever\n",
    "from haystack.nodes import BM25Retriever\n",
    "\n",
    "# intialize\n",
    "retriever = BM25Retriever(document_store)\n",
    "\n",
    "# and query\n",
    "retriever.retrieve(query)"
   ]
  },
  {
   "cell_type": "markdown",
   "id": "cooperative-conditions",
   "metadata": {},
   "source": [
    "Okay great, this is a pretty big notebook but it covers everything we need to know to get started with Haystack + Elastic (and a little more)."
   ]
  }
 ],
 "metadata": {
  "kernelspec": {
   "display_name": "Python 3 (ipykernel)",
   "language": "python",
   "name": "python3"
  },
  "language_info": {
   "codemirror_mode": {
    "name": "ipython",
    "version": 3
   },
   "file_extension": ".py",
   "mimetype": "text/x-python",
   "name": "python",
   "nbconvert_exporter": "python",
   "pygments_lexer": "ipython3",
   "version": "3.9.7"
  }
 },
 "nbformat": 4,
 "nbformat_minor": 5
}
